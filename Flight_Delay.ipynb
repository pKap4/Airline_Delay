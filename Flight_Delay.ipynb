{
  "cells": [
    {
      "cell_type": "code",
      "execution_count": 155,
      "metadata": {
        "id": "bgALq9SQSfEC"
      },
      "outputs": [],
      "source": [
        "import pandas as pd\n",
        "import numpy as np\n",
        "import matplotlib.pyplot as plt\n",
        "import seaborn as sns\n",
        "import plotly.express as px\n",
        "import warnings\n",
        "warnings.filterwarnings('ignore')\n",
        "import plotly.graph_objects as go\n",
        "from joblib import dump, load"
      ]
    },
    {
      "cell_type": "code",
      "execution_count": 156,
      "metadata": {
        "id": "BWobraNhSs9A"
      },
      "outputs": [],
      "source": [
        "df = pd.read_csv(\"Airlines.csv\")"
      ]
    },
    {
      "cell_type": "code",
      "execution_count": 157,
      "metadata": {
        "colab": {
          "base_uri": "https://localhost:8080/",
          "height": 206
        },
        "id": "RYpfoFTVS_W0",
        "outputId": "2acb4661-4d5a-4dba-c96d-6b22a8f6f005"
      },
      "outputs": [
        {
          "data": {
            "text/html": [
              "<div>\n",
              "<style scoped>\n",
              "    .dataframe tbody tr th:only-of-type {\n",
              "        vertical-align: middle;\n",
              "    }\n",
              "\n",
              "    .dataframe tbody tr th {\n",
              "        vertical-align: top;\n",
              "    }\n",
              "\n",
              "    .dataframe thead th {\n",
              "        text-align: right;\n",
              "    }\n",
              "</style>\n",
              "<table border=\"1\" class=\"dataframe\">\n",
              "  <thead>\n",
              "    <tr style=\"text-align: right;\">\n",
              "      <th></th>\n",
              "      <th>id</th>\n",
              "      <th>Airline</th>\n",
              "      <th>Flight</th>\n",
              "      <th>AirportFrom</th>\n",
              "      <th>AirportTo</th>\n",
              "      <th>DayOfWeek</th>\n",
              "      <th>Time</th>\n",
              "      <th>Length</th>\n",
              "      <th>Delay</th>\n",
              "    </tr>\n",
              "  </thead>\n",
              "  <tbody>\n",
              "    <tr>\n",
              "      <th>0</th>\n",
              "      <td>1</td>\n",
              "      <td>CO</td>\n",
              "      <td>269</td>\n",
              "      <td>SFO</td>\n",
              "      <td>IAH</td>\n",
              "      <td>3</td>\n",
              "      <td>15</td>\n",
              "      <td>205</td>\n",
              "      <td>1</td>\n",
              "    </tr>\n",
              "    <tr>\n",
              "      <th>1</th>\n",
              "      <td>2</td>\n",
              "      <td>US</td>\n",
              "      <td>1558</td>\n",
              "      <td>PHX</td>\n",
              "      <td>CLT</td>\n",
              "      <td>3</td>\n",
              "      <td>15</td>\n",
              "      <td>222</td>\n",
              "      <td>1</td>\n",
              "    </tr>\n",
              "    <tr>\n",
              "      <th>2</th>\n",
              "      <td>3</td>\n",
              "      <td>AA</td>\n",
              "      <td>2400</td>\n",
              "      <td>LAX</td>\n",
              "      <td>DFW</td>\n",
              "      <td>3</td>\n",
              "      <td>20</td>\n",
              "      <td>165</td>\n",
              "      <td>1</td>\n",
              "    </tr>\n",
              "    <tr>\n",
              "      <th>3</th>\n",
              "      <td>4</td>\n",
              "      <td>AA</td>\n",
              "      <td>2466</td>\n",
              "      <td>SFO</td>\n",
              "      <td>DFW</td>\n",
              "      <td>3</td>\n",
              "      <td>20</td>\n",
              "      <td>195</td>\n",
              "      <td>1</td>\n",
              "    </tr>\n",
              "    <tr>\n",
              "      <th>4</th>\n",
              "      <td>5</td>\n",
              "      <td>AS</td>\n",
              "      <td>108</td>\n",
              "      <td>ANC</td>\n",
              "      <td>SEA</td>\n",
              "      <td>3</td>\n",
              "      <td>30</td>\n",
              "      <td>202</td>\n",
              "      <td>0</td>\n",
              "    </tr>\n",
              "  </tbody>\n",
              "</table>\n",
              "</div>"
            ],
            "text/plain": [
              "   id Airline  Flight AirportFrom AirportTo  DayOfWeek  Time  Length  Delay\n",
              "0   1      CO     269         SFO       IAH          3    15     205      1\n",
              "1   2      US    1558         PHX       CLT          3    15     222      1\n",
              "2   3      AA    2400         LAX       DFW          3    20     165      1\n",
              "3   4      AA    2466         SFO       DFW          3    20     195      1\n",
              "4   5      AS     108         ANC       SEA          3    30     202      0"
            ]
          },
          "execution_count": 157,
          "metadata": {},
          "output_type": "execute_result"
        }
      ],
      "source": [
        "df.head()"
      ]
    },
    {
      "cell_type": "code",
      "execution_count": 158,
      "metadata": {
        "colab": {
          "base_uri": "https://localhost:8080/",
          "height": 206
        },
        "id": "xT45fKi3Da4_",
        "outputId": "5cdfcd65-56ea-4c2b-f256-e5440fd79cb7"
      },
      "outputs": [
        {
          "data": {
            "text/html": [
              "<div>\n",
              "<style scoped>\n",
              "    .dataframe tbody tr th:only-of-type {\n",
              "        vertical-align: middle;\n",
              "    }\n",
              "\n",
              "    .dataframe tbody tr th {\n",
              "        vertical-align: top;\n",
              "    }\n",
              "\n",
              "    .dataframe thead th {\n",
              "        text-align: right;\n",
              "    }\n",
              "</style>\n",
              "<table border=\"1\" class=\"dataframe\">\n",
              "  <thead>\n",
              "    <tr style=\"text-align: right;\">\n",
              "      <th></th>\n",
              "      <th>id</th>\n",
              "      <th>Airline</th>\n",
              "      <th>Flight</th>\n",
              "      <th>AirportFrom</th>\n",
              "      <th>AirportTo</th>\n",
              "      <th>DayOfWeek</th>\n",
              "      <th>Time</th>\n",
              "      <th>Length</th>\n",
              "      <th>Delay</th>\n",
              "    </tr>\n",
              "  </thead>\n",
              "  <tbody>\n",
              "    <tr>\n",
              "      <th>539378</th>\n",
              "      <td>539379</td>\n",
              "      <td>CO</td>\n",
              "      <td>178</td>\n",
              "      <td>OGG</td>\n",
              "      <td>SNA</td>\n",
              "      <td>5</td>\n",
              "      <td>1439</td>\n",
              "      <td>326</td>\n",
              "      <td>0</td>\n",
              "    </tr>\n",
              "    <tr>\n",
              "      <th>539379</th>\n",
              "      <td>539380</td>\n",
              "      <td>FL</td>\n",
              "      <td>398</td>\n",
              "      <td>SEA</td>\n",
              "      <td>ATL</td>\n",
              "      <td>5</td>\n",
              "      <td>1439</td>\n",
              "      <td>305</td>\n",
              "      <td>0</td>\n",
              "    </tr>\n",
              "    <tr>\n",
              "      <th>539380</th>\n",
              "      <td>539381</td>\n",
              "      <td>FL</td>\n",
              "      <td>609</td>\n",
              "      <td>SFO</td>\n",
              "      <td>MKE</td>\n",
              "      <td>5</td>\n",
              "      <td>1439</td>\n",
              "      <td>255</td>\n",
              "      <td>0</td>\n",
              "    </tr>\n",
              "    <tr>\n",
              "      <th>539381</th>\n",
              "      <td>539382</td>\n",
              "      <td>UA</td>\n",
              "      <td>78</td>\n",
              "      <td>HNL</td>\n",
              "      <td>SFO</td>\n",
              "      <td>5</td>\n",
              "      <td>1439</td>\n",
              "      <td>313</td>\n",
              "      <td>1</td>\n",
              "    </tr>\n",
              "    <tr>\n",
              "      <th>539382</th>\n",
              "      <td>539383</td>\n",
              "      <td>US</td>\n",
              "      <td>1442</td>\n",
              "      <td>LAX</td>\n",
              "      <td>PHL</td>\n",
              "      <td>5</td>\n",
              "      <td>1439</td>\n",
              "      <td>301</td>\n",
              "      <td>1</td>\n",
              "    </tr>\n",
              "  </tbody>\n",
              "</table>\n",
              "</div>"
            ],
            "text/plain": [
              "            id Airline  Flight AirportFrom AirportTo  DayOfWeek  Time  Length  \\\n",
              "539378  539379      CO     178         OGG       SNA          5  1439     326   \n",
              "539379  539380      FL     398         SEA       ATL          5  1439     305   \n",
              "539380  539381      FL     609         SFO       MKE          5  1439     255   \n",
              "539381  539382      UA      78         HNL       SFO          5  1439     313   \n",
              "539382  539383      US    1442         LAX       PHL          5  1439     301   \n",
              "\n",
              "        Delay  \n",
              "539378      0  \n",
              "539379      0  \n",
              "539380      0  \n",
              "539381      1  \n",
              "539382      1  "
            ]
          },
          "execution_count": 158,
          "metadata": {},
          "output_type": "execute_result"
        }
      ],
      "source": [
        "df.tail()"
      ]
    },
    {
      "cell_type": "code",
      "execution_count": 159,
      "metadata": {
        "id": "kfhjBkraDdNg"
      },
      "outputs": [],
      "source": [
        "df.drop(['id'], axis = 1, inplace = True)"
      ]
    },
    {
      "cell_type": "markdown",
      "metadata": {
        "id": "rzGI5vx3_MDI"
      },
      "source": [
        "# Removing Duplicates and handling null values"
      ]
    },
    {
      "cell_type": "code",
      "execution_count": 160,
      "metadata": {
        "id": "rezRRYcjzdqo"
      },
      "outputs": [],
      "source": [
        "#df.drop_duplicates(inplace = True)"
      ]
    },
    {
      "cell_type": "code",
      "execution_count": 161,
      "metadata": {
        "colab": {
          "base_uri": "https://localhost:8080/",
          "height": 300
        },
        "id": "BnFPq3aEOabS",
        "outputId": "21a736c7-fb0c-4acc-c047-59b6fa3a8e93"
      },
      "outputs": [
        {
          "data": {
            "text/html": [
              "<div>\n",
              "<style scoped>\n",
              "    .dataframe tbody tr th:only-of-type {\n",
              "        vertical-align: middle;\n",
              "    }\n",
              "\n",
              "    .dataframe tbody tr th {\n",
              "        vertical-align: top;\n",
              "    }\n",
              "\n",
              "    .dataframe thead th {\n",
              "        text-align: right;\n",
              "    }\n",
              "</style>\n",
              "<table border=\"1\" class=\"dataframe\">\n",
              "  <thead>\n",
              "    <tr style=\"text-align: right;\">\n",
              "      <th></th>\n",
              "      <th>Flight</th>\n",
              "      <th>DayOfWeek</th>\n",
              "      <th>Time</th>\n",
              "      <th>Length</th>\n",
              "      <th>Delay</th>\n",
              "    </tr>\n",
              "  </thead>\n",
              "  <tbody>\n",
              "    <tr>\n",
              "      <th>count</th>\n",
              "      <td>539383.000000</td>\n",
              "      <td>539383.000000</td>\n",
              "      <td>539383.000000</td>\n",
              "      <td>539383.000000</td>\n",
              "      <td>539383.000000</td>\n",
              "    </tr>\n",
              "    <tr>\n",
              "      <th>mean</th>\n",
              "      <td>2427.928630</td>\n",
              "      <td>3.929668</td>\n",
              "      <td>802.728963</td>\n",
              "      <td>132.202007</td>\n",
              "      <td>0.445442</td>\n",
              "    </tr>\n",
              "    <tr>\n",
              "      <th>std</th>\n",
              "      <td>2067.429837</td>\n",
              "      <td>1.914664</td>\n",
              "      <td>278.045911</td>\n",
              "      <td>70.117016</td>\n",
              "      <td>0.497015</td>\n",
              "    </tr>\n",
              "    <tr>\n",
              "      <th>min</th>\n",
              "      <td>1.000000</td>\n",
              "      <td>1.000000</td>\n",
              "      <td>10.000000</td>\n",
              "      <td>0.000000</td>\n",
              "      <td>0.000000</td>\n",
              "    </tr>\n",
              "    <tr>\n",
              "      <th>25%</th>\n",
              "      <td>712.000000</td>\n",
              "      <td>2.000000</td>\n",
              "      <td>565.000000</td>\n",
              "      <td>81.000000</td>\n",
              "      <td>0.000000</td>\n",
              "    </tr>\n",
              "    <tr>\n",
              "      <th>50%</th>\n",
              "      <td>1809.000000</td>\n",
              "      <td>4.000000</td>\n",
              "      <td>795.000000</td>\n",
              "      <td>115.000000</td>\n",
              "      <td>0.000000</td>\n",
              "    </tr>\n",
              "    <tr>\n",
              "      <th>75%</th>\n",
              "      <td>3745.000000</td>\n",
              "      <td>5.000000</td>\n",
              "      <td>1035.000000</td>\n",
              "      <td>162.000000</td>\n",
              "      <td>1.000000</td>\n",
              "    </tr>\n",
              "    <tr>\n",
              "      <th>max</th>\n",
              "      <td>7814.000000</td>\n",
              "      <td>7.000000</td>\n",
              "      <td>1439.000000</td>\n",
              "      <td>655.000000</td>\n",
              "      <td>1.000000</td>\n",
              "    </tr>\n",
              "  </tbody>\n",
              "</table>\n",
              "</div>"
            ],
            "text/plain": [
              "              Flight      DayOfWeek           Time         Length  \\\n",
              "count  539383.000000  539383.000000  539383.000000  539383.000000   \n",
              "mean     2427.928630       3.929668     802.728963     132.202007   \n",
              "std      2067.429837       1.914664     278.045911      70.117016   \n",
              "min         1.000000       1.000000      10.000000       0.000000   \n",
              "25%       712.000000       2.000000     565.000000      81.000000   \n",
              "50%      1809.000000       4.000000     795.000000     115.000000   \n",
              "75%      3745.000000       5.000000    1035.000000     162.000000   \n",
              "max      7814.000000       7.000000    1439.000000     655.000000   \n",
              "\n",
              "               Delay  \n",
              "count  539383.000000  \n",
              "mean        0.445442  \n",
              "std         0.497015  \n",
              "min         0.000000  \n",
              "25%         0.000000  \n",
              "50%         0.000000  \n",
              "75%         1.000000  \n",
              "max         1.000000  "
            ]
          },
          "execution_count": 161,
          "metadata": {},
          "output_type": "execute_result"
        }
      ],
      "source": [
        "df.describe()"
      ]
    },
    {
      "cell_type": "code",
      "execution_count": 162,
      "metadata": {
        "colab": {
          "base_uri": "https://localhost:8080/"
        },
        "id": "VWz00ZX1TA7v",
        "outputId": "70a8a659-de42-4948-953b-256bda7421c7"
      },
      "outputs": [
        {
          "name": "stdout",
          "output_type": "stream",
          "text": [
            "<class 'pandas.core.frame.DataFrame'>\n",
            "RangeIndex: 539383 entries, 0 to 539382\n",
            "Data columns (total 8 columns):\n",
            " #   Column       Non-Null Count   Dtype \n",
            "---  ------       --------------   ----- \n",
            " 0   Airline      539383 non-null  object\n",
            " 1   Flight       539383 non-null  int64 \n",
            " 2   AirportFrom  539383 non-null  object\n",
            " 3   AirportTo    539383 non-null  object\n",
            " 4   DayOfWeek    539383 non-null  int64 \n",
            " 5   Time         539383 non-null  int64 \n",
            " 6   Length       539383 non-null  int64 \n",
            " 7   Delay        539383 non-null  int64 \n",
            "dtypes: int64(5), object(3)\n",
            "memory usage: 32.9+ MB\n"
          ]
        }
      ],
      "source": [
        "df.info()"
      ]
    },
    {
      "cell_type": "code",
      "execution_count": 163,
      "metadata": {
        "id": "gS7Cvf6OilVg"
      },
      "outputs": [],
      "source": [
        "df.dropna(how = 'any', axis = 0, inplace = True)"
      ]
    },
    {
      "cell_type": "markdown",
      "metadata": {
        "id": "Ie065orbz8Kv"
      },
      "source": [
        "No null values remaining, so we can move on to the next step, dealing with Outliers."
      ]
    },
    {
      "cell_type": "markdown",
      "metadata": {
        "id": "gQFuI_U7_ho4"
      },
      "source": [
        "# Outliers"
      ]
    },
    {
      "cell_type": "markdown",
      "metadata": {
        "id": "N8e5ZOgvAdZm"
      },
      "source": [
        "While going through the dataset, one can observe that there are certain length values that are 0, which is an anomaly, and hence will be dropped as an outlier, assuming it to be a human error while enetering the data."
      ]
    },
    {
      "cell_type": "code",
      "execution_count": 164,
      "metadata": {
        "colab": {
          "base_uri": "https://localhost:8080/"
        },
        "id": "p8XA912eOnmY",
        "outputId": "927535ed-8375-4e3a-cab8-f047cbf48404"
      },
      "outputs": [
        {
          "name": "stdout",
          "output_type": "stream",
          "text": [
            "The number of length=0 tuples are :  4\n",
            "Dropped\n"
          ]
        }
      ],
      "source": [
        "print(\"The number of length=0 tuples are : \", len(df[df[\"Length\"]==0]))\n",
        "df.drop(df[df[\"Length\"]==0].index, inplace = True)\n",
        "print(\"Dropped\")"
      ]
    },
    {
      "cell_type": "code",
      "execution_count": 165,
      "metadata": {
        "colab": {
          "base_uri": "https://localhost:8080/"
        },
        "id": "9hdpqTzU_xqk",
        "outputId": "6d4a4de6-4acd-4f8a-9642-ee90bfb5d537"
      },
      "outputs": [
        {
          "name": "stdout",
          "output_type": "stream",
          "text": [
            "<class 'pandas.core.frame.DataFrame'>\n",
            "Int64Index: 539379 entries, 0 to 539382\n",
            "Data columns (total 8 columns):\n",
            " #   Column       Non-Null Count   Dtype \n",
            "---  ------       --------------   ----- \n",
            " 0   Airline      539379 non-null  object\n",
            " 1   Flight       539379 non-null  int64 \n",
            " 2   AirportFrom  539379 non-null  object\n",
            " 3   AirportTo    539379 non-null  object\n",
            " 4   DayOfWeek    539379 non-null  int64 \n",
            " 5   Time         539379 non-null  int64 \n",
            " 6   Length       539379 non-null  int64 \n",
            " 7   Delay        539379 non-null  int64 \n",
            "dtypes: int64(5), object(3)\n",
            "memory usage: 37.0+ MB\n"
          ]
        }
      ],
      "source": [
        "df.info()"
      ]
    },
    {
      "cell_type": "markdown",
      "metadata": {
        "id": "K72WaybY_k7U"
      },
      "source": [
        "Since I am not privy to the measurement standards used for the dataset, as this information was not available, I am not in a position to make any well-informed assumptions about the observations represented by the data and its distribution.\n",
        "\n",
        "Hence, I will avoid removing any additional data basing it as an outlier, and accepting it as part of the natural distribution from which the data was collected and which the data represents.\n"
      ]
    },
    {
      "cell_type": "markdown",
      "metadata": {
        "id": "z4AY5QlIBXuZ"
      },
      "source": [
        "# Visualizations and Inferences"
      ]
    },
    {
      "cell_type": "markdown",
      "metadata": {
        "id": "v6X7_YWyW4_a"
      },
      "source": [
        "We will create two new dataframes, one containing all the data in our feature columns, and the other to store the corresponding data in our target column, \"Delay\", which has binary categorical data, represented by 1's and 0's."
      ]
    },
    {
      "cell_type": "code",
      "execution_count": 166,
      "metadata": {
        "id": "AoGV6wySWxqh"
      },
      "outputs": [],
      "source": [
        "x_df = df.drop([\"Delay\"], axis = 1)\n",
        "y_df = df[\"Delay\"]"
      ]
    },
    {
      "cell_type": "markdown",
      "metadata": {
        "id": "BbVSWkzlY1Bj"
      },
      "source": [
        "Let's just take a peek at the number of unique values in each category."
      ]
    },
    {
      "cell_type": "code",
      "execution_count": 167,
      "metadata": {
        "colab": {
          "base_uri": "https://localhost:8080/"
        },
        "id": "9RRxsp9nZQlr",
        "outputId": "057bddeb-2ed4-4cd5-a214-934e6775b46e"
      },
      "outputs": [
        {
          "name": "stdout",
          "output_type": "stream",
          "text": [
            "Airline: 18\n",
            "Flight: 6585\n",
            "AirportFrom: 293\n",
            "AirportTo: 293\n",
            "DayOfWeek: 7\n",
            "Time: 1131\n",
            "Length: 425\n"
          ]
        }
      ],
      "source": [
        "for col in x_df.columns:\n",
        "  print(f\"{col}: {x_df[col].nunique()}\")"
      ]
    },
    {
      "cell_type": "markdown",
      "metadata": {
        "id": "1JJ_ri3CURAL"
      },
      "source": [
        "Let's try and answer a few interesting questions about our data:\n",
        "\n",
        "\n",
        "1. What source airports contribute more/less towards the delays ? \n",
        "2. On what day of the week are we more/less likely to see a delay ?\n",
        "3. Which airline has the most delays ?\n",
        "\n"
      ]
    },
    {
      "cell_type": "markdown",
      "metadata": {
        "id": "OJdpdqRsfAdp"
      },
      "source": [
        "Before we answer the questions, we'll create two dataframes, one that only has delayed flights, and the other that has none.\n"
      ]
    },
    {
      "cell_type": "code",
      "execution_count": 168,
      "metadata": {
        "colab": {
          "base_uri": "https://localhost:8080/"
        },
        "id": "FthHeyurfNTI",
        "outputId": "b645c2a0-1ffc-4018-cbe4-f1292e878ae5"
      },
      "outputs": [
        {
          "name": "stdout",
          "output_type": "stream",
          "text": [
            "(240263, 8)\n",
            "(299116, 8)\n"
          ]
        }
      ],
      "source": [
        "df_delay = df[df[\"Delay\"]==1]\n",
        "df_no_delay = df[df[\"Delay\"]==0]\n",
        "\n",
        "print(df_delay.shape)\n",
        "print(df_no_delay.shape)"
      ]
    },
    {
      "cell_type": "markdown",
      "metadata": {
        "id": "pX5ebNO6fzDs"
      },
      "source": [
        "*Question 1: What source airports contribute more/less towards the delays ?*\n",
        "\n",
        "(I will just be considering the top 10 for each)"
      ]
    },
    {
      "cell_type": "code",
      "execution_count": 169,
      "metadata": {
        "colab": {
          "base_uri": "https://localhost:8080/",
          "height": 472
        },
        "id": "tvnWmJLFxYGM",
        "outputId": "4e3110bf-1c6a-480f-fd77-2f019effacbe"
      },
      "outputs": [
        {
          "data": {
            "text/plain": [
              "<seaborn.axisgrid.FacetGrid at 0x24b814815a0>"
            ]
          },
          "execution_count": 169,
          "metadata": {},
          "output_type": "execute_result"
        },
        {
          "data": {
            "image/png": "[encoded data removed]",
            "text/plain": [
              "<Figure size 432x432 with 1 Axes>"
            ]
          },
          "metadata": {
            "needs_background": "light"
          },
          "output_type": "display_data"
        }
      ],
      "source": [
        "g = sns.catplot(x=\"AirportFrom\", col=\"Delay\",\n",
        "                data=df_delay, kind=\"count\",\n",
        "                height=6,  order = df_delay['AirportFrom'].value_counts()[:10].index.tolist())\n",
        "g.set_xticklabels(rotation = 90)\n",
        "#g.savefig(\"delay_counts_v_AirportFrom\")"
      ]
    },
    {
      "cell_type": "code",
      "execution_count": 170,
      "metadata": {
        "colab": {
          "base_uri": "https://localhost:8080/",
          "height": 472
        },
        "id": "0iyPzvBGf_mR",
        "outputId": "22a00188-5e8e-4867-f74c-8b614f425d9f"
      },
      "outputs": [
        {
          "data": {
            "image/png": "[encoded data removed]",
            "text/plain": [
              "<Figure size 432x432 with 1 Axes>"
            ]
          },
          "metadata": {
            "needs_background": "light"
          },
          "output_type": "display_data"
        }
      ],
      "source": [
        "g = sns.catplot(x=\"AirportFrom\", col=\"Delay\",\n",
        "                data=df_no_delay, kind=\"count\",\n",
        "                height=6,  order = df_no_delay['AirportFrom'].value_counts()[:10].index.tolist())\n",
        "g.set_xticklabels(rotation = 90)\n",
        "g.savefig(\"NoDelay_counts_v_AirportFrom\")"
      ]
    },
    {
      "cell_type": "markdown",
      "metadata": {
        "id": "ro4AfSdVaGqC"
      },
      "source": [
        "*Question 2: On what day of the week are we more/less likely to see a delay ?*"
      ]
    },
    {
      "cell_type": "code",
      "execution_count": 171,
      "metadata": {
        "colab": {
          "base_uri": "https://localhost:8080/",
          "height": 441
        },
        "id": "tYA2v-ZLsVVc",
        "outputId": "f88a171a-67fe-4b22-fe2d-0ea1a0e0ed0b"
      },
      "outputs": [
        {
          "data": {
            "image/png": "[encoded data removed]",
            "text/plain": [
              "<Figure size 864x432 with 2 Axes>"
            ]
          },
          "metadata": {
            "needs_background": "light"
          },
          "output_type": "display_data"
        }
      ],
      "source": [
        "g = sns.catplot(x=\"DayOfWeek\", col=\"Delay\",\n",
        "                data=df, kind=\"count\",\n",
        "                height=6)\n",
        "g.savefig(\"dayOfWeek_v_count\")"
      ]
    },
    {
      "cell_type": "markdown",
      "metadata": {
        "id": "EIjSPXKygTgx"
      },
      "source": [
        "*Question 3: Which airline has the most delays ?*"
      ]
    },
    {
      "cell_type": "code",
      "execution_count": 172,
      "metadata": {
        "colab": {
          "base_uri": "https://localhost:8080/",
          "height": 441
        },
        "id": "CaMB4ZN0Zskt",
        "outputId": "f6b59dc5-dc1f-44fe-f394-69a427d03fe2"
      },
      "outputs": [
        {
          "data": {
            "image/png": "[encoded data removed]",
            "text/plain": [
              "<Figure size 864x432 with 2 Axes>"
            ]
          },
          "metadata": {
            "needs_background": "light"
          },
          "output_type": "display_data"
        }
      ],
      "source": [
        "g = sns.catplot(x=\"Airline\", col=\"Delay\",\n",
        "                data=df, kind=\"count\",\n",
        "                height=6)\n",
        "g.savefig(\"counts_v_Airline\")"
      ]
    },
    {
      "cell_type": "markdown",
      "metadata": {
        "id": "A0vEmi5njof4"
      },
      "source": [
        "Let's take a look into which airline and departure airport pairing results in the most delays.\n"
      ]
    },
    {
      "cell_type": "code",
      "execution_count": 173,
      "metadata": {
        "colab": {
          "base_uri": "https://localhost:8080/"
        },
        "id": "K8Cli0BMwu4D",
        "outputId": "fe905b9b-7633-465c-a652-11668a766971"
      },
      "outputs": [
        {
          "name": "stdout",
          "output_type": "stream",
          "text": [
            "     Airline AirportFrom  Count\n",
            "361       DL         ATL   7173\n",
            "139       AA         DFW   5590\n",
            "1243      WN         LAS   4874\n",
            "1251      WN         MDW   4848\n",
            "320       CO         IAH   4134\n",
            "478       EV         ATL   4106\n",
            "1264      WN         PHX   3681\n",
            "1225      WN         BWI   3676\n",
            "1150      US         CLT   3160\n",
            "1333      XE         IAH   3063\n"
          ]
        }
      ],
      "source": [
        "grouped_df = df_delay.groupby(['Airline', 'AirportFrom']).size().reset_index(name=\"Count\").sort_values(\"Count\", ascending = False)\n",
        "print(grouped_df[:10])"
      ]
    },
    {
      "cell_type": "markdown",
      "metadata": {
        "id": "Ym3szSN0tORR"
      },
      "source": [
        "Also, let's find the top 10 airport pairings with respect to delayed flights."
      ]
    },
    {
      "cell_type": "code",
      "execution_count": 174,
      "metadata": {
        "colab": {
          "base_uri": "https://localhost:8080/"
        },
        "id": "EZjf6vE8n77O",
        "outputId": "f7e59f21-406e-4bd1-812d-bfdf410c683c"
      },
      "outputs": [
        {
          "name": "stdout",
          "output_type": "stream",
          "text": [
            "     AirportFrom AirportTo  Count\n",
            "2191         LAX       SFO    598\n",
            "3717         SFO       LAX    572\n",
            "2163         LAX       LAS    482\n",
            "871          DAL       HOU    477\n",
            "1658         HOU       DAL    451\n",
            "2086         LAS       LAX    447\n",
            "167          ATL       LGA    423\n",
            "2186         LAX       SAN    384\n",
            "1050         DEN       SLC    383\n",
            "172          ATL       MCO    382\n"
          ]
        }
      ],
      "source": [
        "grouped_df_air_pairs = df_delay.groupby(['AirportFrom', 'AirportTo']).size().reset_index(name=\"Count\").sort_values(\"Count\", ascending = False)\n",
        "print(grouped_df_air_pairs[:10])"
      ]
    },
    {
      "cell_type": "markdown",
      "metadata": {
        "id": "EiIkcKgbZpLd"
      },
      "source": [
        "Next, we check out the time taken by airlines for any journey."
      ]
    },
    {
      "cell_type": "code",
      "execution_count": 175,
      "metadata": {
        "id": "PdU3j8BWU_uj"
      },
      "outputs": [],
      "source": [
        "df_avg = df.groupby(['AirportFrom', 'AirportTo'], axis = 0).agg(time_mean = ('Time', 'mean'),\n",
        "                                                                length_mean = ('Length', 'mean'))"
      ]
    },
    {
      "cell_type": "code",
      "execution_count": 176,
      "metadata": {
        "colab": {
          "base_uri": "https://localhost:8080/",
          "height": 455
        },
        "id": "HoXC8IsIcIZ6",
        "outputId": "35b71e40-4b96-4b02-e47e-a907d666def2"
      },
      "outputs": [
        {
          "data": {
            "text/html": [
              "<div>\n",
              "<style scoped>\n",
              "    .dataframe tbody tr th:only-of-type {\n",
              "        vertical-align: middle;\n",
              "    }\n",
              "\n",
              "    .dataframe tbody tr th {\n",
              "        vertical-align: top;\n",
              "    }\n",
              "\n",
              "    .dataframe thead th {\n",
              "        text-align: right;\n",
              "    }\n",
              "</style>\n",
              "<table border=\"1\" class=\"dataframe\">\n",
              "  <thead>\n",
              "    <tr style=\"text-align: right;\">\n",
              "      <th></th>\n",
              "      <th></th>\n",
              "      <th>time_mean</th>\n",
              "      <th>length_mean</th>\n",
              "    </tr>\n",
              "    <tr>\n",
              "      <th>AirportFrom</th>\n",
              "      <th>AirportTo</th>\n",
              "      <th></th>\n",
              "      <th></th>\n",
              "    </tr>\n",
              "  </thead>\n",
              "  <tbody>\n",
              "    <tr>\n",
              "      <th rowspan=\"5\" valign=\"top\">ABE</th>\n",
              "      <th>ATL</th>\n",
              "      <td>388.225806</td>\n",
              "      <td>153.032258</td>\n",
              "    </tr>\n",
              "    <tr>\n",
              "      <th>CLT</th>\n",
              "      <td>527.580645</td>\n",
              "      <td>106.000000</td>\n",
              "    </tr>\n",
              "    <tr>\n",
              "      <th>DTW</th>\n",
              "      <td>687.435294</td>\n",
              "      <td>112.588235</td>\n",
              "    </tr>\n",
              "    <tr>\n",
              "      <th>FLL</th>\n",
              "      <td>688.823529</td>\n",
              "      <td>178.000000</td>\n",
              "    </tr>\n",
              "    <tr>\n",
              "      <th>MCO</th>\n",
              "      <td>1103.161290</td>\n",
              "      <td>156.000000</td>\n",
              "    </tr>\n",
              "    <tr>\n",
              "      <th>...</th>\n",
              "      <th>...</th>\n",
              "      <td>...</td>\n",
              "      <td>...</td>\n",
              "    </tr>\n",
              "    <tr>\n",
              "      <th rowspan=\"2\" valign=\"top\">YAK</th>\n",
              "      <th>CDV</th>\n",
              "      <td>721.000000</td>\n",
              "      <td>52.000000</td>\n",
              "    </tr>\n",
              "    <tr>\n",
              "      <th>JNU</th>\n",
              "      <td>1110.000000</td>\n",
              "      <td>46.642857</td>\n",
              "    </tr>\n",
              "    <tr>\n",
              "      <th rowspan=\"3\" valign=\"top\">YUM</th>\n",
              "      <th>IPL</th>\n",
              "      <td>1379.548387</td>\n",
              "      <td>27.000000</td>\n",
              "    </tr>\n",
              "    <tr>\n",
              "      <th>LAX</th>\n",
              "      <td>798.840336</td>\n",
              "      <td>79.319328</td>\n",
              "    </tr>\n",
              "    <tr>\n",
              "      <th>PHX</th>\n",
              "      <td>787.675532</td>\n",
              "      <td>66.803191</td>\n",
              "    </tr>\n",
              "  </tbody>\n",
              "</table>\n",
              "<p>4190 rows × 2 columns</p>\n",
              "</div>"
            ],
            "text/plain": [
              "                         time_mean  length_mean\n",
              "AirportFrom AirportTo                          \n",
              "ABE         ATL         388.225806   153.032258\n",
              "            CLT         527.580645   106.000000\n",
              "            DTW         687.435294   112.588235\n",
              "            FLL         688.823529   178.000000\n",
              "            MCO        1103.161290   156.000000\n",
              "...                            ...          ...\n",
              "YAK         CDV         721.000000    52.000000\n",
              "            JNU        1110.000000    46.642857\n",
              "YUM         IPL        1379.548387    27.000000\n",
              "            LAX         798.840336    79.319328\n",
              "            PHX         787.675532    66.803191\n",
              "\n",
              "[4190 rows x 2 columns]"
            ]
          },
          "execution_count": 176,
          "metadata": {},
          "output_type": "execute_result"
        }
      ],
      "source": [
        "df_avg\n"
      ]
    },
    {
      "cell_type": "code",
      "execution_count": 177,
      "metadata": {
        "id": "VqCpZH0u24-N"
      },
      "outputs": [],
      "source": [
        "df_avg['speed_mean'] = df_avg['length_mean']/df_avg['time_mean']"
      ]
    },
    {
      "cell_type": "code",
      "execution_count": 178,
      "metadata": {
        "colab": {
          "base_uri": "https://localhost:8080/",
          "height": 455
        },
        "id": "kJt-6q_63hfv",
        "outputId": "d2bddac0-c66f-433d-a499-9a4dbc7e4af5"
      },
      "outputs": [
        {
          "data": {
            "text/html": [
              "<div>\n",
              "<style scoped>\n",
              "    .dataframe tbody tr th:only-of-type {\n",
              "        vertical-align: middle;\n",
              "    }\n",
              "\n",
              "    .dataframe tbody tr th {\n",
              "        vertical-align: top;\n",
              "    }\n",
              "\n",
              "    .dataframe thead th {\n",
              "        text-align: right;\n",
              "    }\n",
              "</style>\n",
              "<table border=\"1\" class=\"dataframe\">\n",
              "  <thead>\n",
              "    <tr style=\"text-align: right;\">\n",
              "      <th></th>\n",
              "      <th></th>\n",
              "      <th>time_mean</th>\n",
              "      <th>length_mean</th>\n",
              "      <th>speed_mean</th>\n",
              "    </tr>\n",
              "    <tr>\n",
              "      <th>AirportFrom</th>\n",
              "      <th>AirportTo</th>\n",
              "      <th></th>\n",
              "      <th></th>\n",
              "      <th></th>\n",
              "    </tr>\n",
              "  </thead>\n",
              "  <tbody>\n",
              "    <tr>\n",
              "      <th rowspan=\"5\" valign=\"top\">ABE</th>\n",
              "      <th>ATL</th>\n",
              "      <td>388.225806</td>\n",
              "      <td>153.032258</td>\n",
              "      <td>0.394184</td>\n",
              "    </tr>\n",
              "    <tr>\n",
              "      <th>CLT</th>\n",
              "      <td>527.580645</td>\n",
              "      <td>106.000000</td>\n",
              "      <td>0.200917</td>\n",
              "    </tr>\n",
              "    <tr>\n",
              "      <th>DTW</th>\n",
              "      <td>687.435294</td>\n",
              "      <td>112.588235</td>\n",
              "      <td>0.163780</td>\n",
              "    </tr>\n",
              "    <tr>\n",
              "      <th>FLL</th>\n",
              "      <td>688.823529</td>\n",
              "      <td>178.000000</td>\n",
              "      <td>0.258412</td>\n",
              "    </tr>\n",
              "    <tr>\n",
              "      <th>MCO</th>\n",
              "      <td>1103.161290</td>\n",
              "      <td>156.000000</td>\n",
              "      <td>0.141412</td>\n",
              "    </tr>\n",
              "    <tr>\n",
              "      <th>...</th>\n",
              "      <th>...</th>\n",
              "      <td>...</td>\n",
              "      <td>...</td>\n",
              "      <td>...</td>\n",
              "    </tr>\n",
              "    <tr>\n",
              "      <th rowspan=\"2\" valign=\"top\">YAK</th>\n",
              "      <th>CDV</th>\n",
              "      <td>721.000000</td>\n",
              "      <td>52.000000</td>\n",
              "      <td>0.072122</td>\n",
              "    </tr>\n",
              "    <tr>\n",
              "      <th>JNU</th>\n",
              "      <td>1110.000000</td>\n",
              "      <td>46.642857</td>\n",
              "      <td>0.042021</td>\n",
              "    </tr>\n",
              "    <tr>\n",
              "      <th rowspan=\"3\" valign=\"top\">YUM</th>\n",
              "      <th>IPL</th>\n",
              "      <td>1379.548387</td>\n",
              "      <td>27.000000</td>\n",
              "      <td>0.019572</td>\n",
              "    </tr>\n",
              "    <tr>\n",
              "      <th>LAX</th>\n",
              "      <td>798.840336</td>\n",
              "      <td>79.319328</td>\n",
              "      <td>0.099293</td>\n",
              "    </tr>\n",
              "    <tr>\n",
              "      <th>PHX</th>\n",
              "      <td>787.675532</td>\n",
              "      <td>66.803191</td>\n",
              "      <td>0.084811</td>\n",
              "    </tr>\n",
              "  </tbody>\n",
              "</table>\n",
              "<p>4190 rows × 3 columns</p>\n",
              "</div>"
            ],
            "text/plain": [
              "                         time_mean  length_mean  speed_mean\n",
              "AirportFrom AirportTo                                      \n",
              "ABE         ATL         388.225806   153.032258    0.394184\n",
              "            CLT         527.580645   106.000000    0.200917\n",
              "            DTW         687.435294   112.588235    0.163780\n",
              "            FLL         688.823529   178.000000    0.258412\n",
              "            MCO        1103.161290   156.000000    0.141412\n",
              "...                            ...          ...         ...\n",
              "YAK         CDV         721.000000    52.000000    0.072122\n",
              "            JNU        1110.000000    46.642857    0.042021\n",
              "YUM         IPL        1379.548387    27.000000    0.019572\n",
              "            LAX         798.840336    79.319328    0.099293\n",
              "            PHX         787.675532    66.803191    0.084811\n",
              "\n",
              "[4190 rows x 3 columns]"
            ]
          },
          "execution_count": 178,
          "metadata": {},
          "output_type": "execute_result"
        }
      ],
      "source": [
        "df_avg"
      ]
    },
    {
      "cell_type": "code",
      "execution_count": 179,
      "metadata": {
        "id": "A2u0zIgeghsn"
      },
      "outputs": [],
      "source": [
        "df_avg = df_avg.reset_index().sort_values(by = ['speed_mean'], ascending = False).reset_index()"
      ]
    },
    {
      "cell_type": "code",
      "execution_count": 180,
      "metadata": {
        "id": "32I--PNy39Mz"
      },
      "outputs": [],
      "source": [
        "df_avg.drop(['index'], axis = 1, inplace = True)"
      ]
    },
    {
      "cell_type": "code",
      "execution_count": 181,
      "metadata": {
        "colab": {
          "base_uri": "https://localhost:8080/",
          "height": 424
        },
        "id": "wFadJg1R46bz",
        "outputId": "fd6b7464-07a2-467c-f4d2-fb9e3ab74339"
      },
      "outputs": [
        {
          "data": {
            "text/html": [
              "<div>\n",
              "<style scoped>\n",
              "    .dataframe tbody tr th:only-of-type {\n",
              "        vertical-align: middle;\n",
              "    }\n",
              "\n",
              "    .dataframe tbody tr th {\n",
              "        vertical-align: top;\n",
              "    }\n",
              "\n",
              "    .dataframe thead th {\n",
              "        text-align: right;\n",
              "    }\n",
              "</style>\n",
              "<table border=\"1\" class=\"dataframe\">\n",
              "  <thead>\n",
              "    <tr style=\"text-align: right;\">\n",
              "      <th></th>\n",
              "      <th>AirportFrom</th>\n",
              "      <th>AirportTo</th>\n",
              "      <th>time_mean</th>\n",
              "      <th>length_mean</th>\n",
              "      <th>speed_mean</th>\n",
              "    </tr>\n",
              "  </thead>\n",
              "  <tbody>\n",
              "    <tr>\n",
              "      <th>0</th>\n",
              "      <td>ANC</td>\n",
              "      <td>LAX</td>\n",
              "      <td>20.000000</td>\n",
              "      <td>315.000000</td>\n",
              "      <td>15.750000</td>\n",
              "    </tr>\n",
              "    <tr>\n",
              "      <th>1</th>\n",
              "      <td>ANC</td>\n",
              "      <td>SLC</td>\n",
              "      <td>76.500000</td>\n",
              "      <td>273.700000</td>\n",
              "      <td>3.577778</td>\n",
              "    </tr>\n",
              "    <tr>\n",
              "      <th>2</th>\n",
              "      <td>BQN</td>\n",
              "      <td>EWR</td>\n",
              "      <td>159.285714</td>\n",
              "      <td>245.142857</td>\n",
              "      <td>1.539013</td>\n",
              "    </tr>\n",
              "    <tr>\n",
              "      <th>3</th>\n",
              "      <td>ANC</td>\n",
              "      <td>PHX</td>\n",
              "      <td>222.891304</td>\n",
              "      <td>330.586957</td>\n",
              "      <td>1.483176</td>\n",
              "    </tr>\n",
              "    <tr>\n",
              "      <th>4</th>\n",
              "      <td>GUM</td>\n",
              "      <td>HNL</td>\n",
              "      <td>400.000000</td>\n",
              "      <td>430.000000</td>\n",
              "      <td>1.075000</td>\n",
              "    </tr>\n",
              "    <tr>\n",
              "      <th>...</th>\n",
              "      <td>...</td>\n",
              "      <td>...</td>\n",
              "      <td>...</td>\n",
              "      <td>...</td>\n",
              "      <td>...</td>\n",
              "    </tr>\n",
              "    <tr>\n",
              "      <th>4185</th>\n",
              "      <td>PSG</td>\n",
              "      <td>WRG</td>\n",
              "      <td>928.000000</td>\n",
              "      <td>27.862069</td>\n",
              "      <td>0.030024</td>\n",
              "    </tr>\n",
              "    <tr>\n",
              "      <th>4186</th>\n",
              "      <td>CWA</td>\n",
              "      <td>EAU</td>\n",
              "      <td>1384.740741</td>\n",
              "      <td>38.000000</td>\n",
              "      <td>0.027442</td>\n",
              "    </tr>\n",
              "    <tr>\n",
              "      <th>4187</th>\n",
              "      <td>CEC</td>\n",
              "      <td>ACV</td>\n",
              "      <td>1101.925926</td>\n",
              "      <td>28.518519</td>\n",
              "      <td>0.025881</td>\n",
              "    </tr>\n",
              "    <tr>\n",
              "      <th>4188</th>\n",
              "      <td>IDA</td>\n",
              "      <td>PIH</td>\n",
              "      <td>990.000000</td>\n",
              "      <td>25.000000</td>\n",
              "      <td>0.025253</td>\n",
              "    </tr>\n",
              "    <tr>\n",
              "      <th>4189</th>\n",
              "      <td>YUM</td>\n",
              "      <td>IPL</td>\n",
              "      <td>1379.548387</td>\n",
              "      <td>27.000000</td>\n",
              "      <td>0.019572</td>\n",
              "    </tr>\n",
              "  </tbody>\n",
              "</table>\n",
              "<p>4190 rows × 5 columns</p>\n",
              "</div>"
            ],
            "text/plain": [
              "     AirportFrom AirportTo    time_mean  length_mean  speed_mean\n",
              "0            ANC       LAX    20.000000   315.000000   15.750000\n",
              "1            ANC       SLC    76.500000   273.700000    3.577778\n",
              "2            BQN       EWR   159.285714   245.142857    1.539013\n",
              "3            ANC       PHX   222.891304   330.586957    1.483176\n",
              "4            GUM       HNL   400.000000   430.000000    1.075000\n",
              "...          ...       ...          ...          ...         ...\n",
              "4185         PSG       WRG   928.000000    27.862069    0.030024\n",
              "4186         CWA       EAU  1384.740741    38.000000    0.027442\n",
              "4187         CEC       ACV  1101.925926    28.518519    0.025881\n",
              "4188         IDA       PIH   990.000000    25.000000    0.025253\n",
              "4189         YUM       IPL  1379.548387    27.000000    0.019572\n",
              "\n",
              "[4190 rows x 5 columns]"
            ]
          },
          "execution_count": 181,
          "metadata": {},
          "output_type": "execute_result"
        }
      ],
      "source": [
        "df_avg"
      ]
    },
    {
      "cell_type": "markdown",
      "metadata": {
        "id": "tVq3poJk5oY4"
      },
      "source": [
        "Let's take a look at the 10 quickest flight paths and slowest flight paths"
      ]
    },
    {
      "cell_type": "code",
      "execution_count": 182,
      "metadata": {
        "colab": {
          "base_uri": "https://localhost:8080/",
          "height": 542
        },
        "id": "FT82qUfN5ZNz",
        "outputId": "927bc140-d6cf-49f8-9ca4-9eedd98996be"
      },
      "outputs": [
        {
          "data": {
            "application/vnd.plotly.v1+json": {
              "config": {
                "plotlyServerURL": "https://plot.ly"
              },
              "data": [
                {
                  "customdata": [
                    [
                      "ANC",
                      "LAX",
                      315
                    ],
                    [
                      "ANC",
                      "SLC",
                      273.7
                    ],
                    [
                      "BQN",
                      "EWR",
                      245.14285714285714
                    ],
                    [
                      "ANC",
                      "PHX",
                      330.5869565217391
                    ],
                    [
                      "GUM",
                      "HNL",
                      430
                    ],
                    [
                      "MCO",
                      "SFO",
                      372.5806451612903
                    ],
                    [
                      "ATL",
                      "HNL",
                      620
                    ],
                    [
                      "ORD",
                      "OGG",
                      549
                    ],
                    [
                      "ORD",
                      "HNL",
                      553.9454545454546
                    ],
                    [
                      "EWR",
                      "HNL",
                      655
                    ]
                  ],
                  "hovertemplate": "speed_mean=%{x}<br>time_mean=%{y}<br>AirportFrom=%{customdata[0]}<br>AirportTo=%{customdata[1]}<br>length_mean=%{customdata[2]}<extra></extra>",
                  "legendgroup": "",
                  "marker": {
                    "color": "#636efa",
                    "symbol": "circle"
                  },
                  "mode": "markers",
                  "name": "",
                  "orientation": "v",
                  "showlegend": false,
                  "type": "scatter",
                  "x": [
                    15.75,
                    3.5777777777777775,
                    1.5390134529147983,
                    1.4831756559055886,
                    1.075,
                    0.9693663449433486,
                    0.9538461538461539,
                    0.9226890756302522,
                    0.8823597555677838,
                    0.8571127057830308
                  ],
                  "xaxis": "x",
                  "y": [
                    20,
                    76.5,
                    159.28571428571428,
                    222.8913043478261,
                    400,
                    384.35483870967744,
                    650,
                    595,
                    627.8,
                    764.1935483870968
                  ],
                  "yaxis": "y"
                }
              ],
              "layout": {
                "legend": {
                  "tracegroupgap": 0
                },
                "margin": {
                  "t": 60
                },
                "template": {
                  "data": {
                    "bar": [
                      {
                        "error_x": {
                          "color": "#2a3f5f"
                        },
                        "error_y": {
                          "color": "#2a3f5f"
                        },
                        "marker": {
                          "line": {
                            "color": "#E5ECF6",
                            "width": 0.5
                          },
                          "pattern": {
                            "fillmode": "overlay",
                            "size": 10,
                            "solidity": 0.2
                          }
                        },
                        "type": "bar"
                      }
                    ],
                    "barpolar": [
                      {
                        "marker": {
                          "line": {
                            "color": "#E5ECF6",
                            "width": 0.5
                          },
                          "pattern": {
                            "fillmode": "overlay",
                            "size": 10,
                            "solidity": 0.2
                          }
                        },
                        "type": "barpolar"
                      }
                    ],
                    "carpet": [
                      {
                        "aaxis": {
                          "endlinecolor": "#2a3f5f",
                          "gridcolor": "white",
                          "linecolor": "white",
                          "minorgridcolor": "white",
                          "startlinecolor": "#2a3f5f"
                        },
                        "baxis": {
                          "endlinecolor": "#2a3f5f",
                          "gridcolor": "white",
                          "linecolor": "white",
                          "minorgridcolor": "white",
                          "startlinecolor": "#2a3f5f"
                        },
                        "type": "carpet"
                      }
                    ],
                    "choropleth": [
                      {
                        "colorbar": {
                          "outlinewidth": 0,
                          "ticks": ""
                        },
                        "type": "choropleth"
                      }
                    ],
                    "contour": [
                      {
                        "colorbar": {
                          "outlinewidth": 0,
                          "ticks": ""
                        },
                        "colorscale": [
                          [
                            0,
                            "#0d0887"
                          ],
                          [
                            0.1111111111111111,
                            "#46039f"
                          ],
                          [
                            0.2222222222222222,
                            "#7201a8"
                          ],
                          [
                            0.3333333333333333,
                            "#9c179e"
                          ],
                          [
                            0.4444444444444444,
                            "#bd3786"
                          ],
                          [
                            0.5555555555555556,
                            "#d8576b"
                          ],
                          [
                            0.6666666666666666,
                            "#ed7953"
                          ],
                          [
                            0.7777777777777778,
                            "#fb9f3a"
                          ],
                          [
                            0.8888888888888888,
                            "#fdca26"
                          ],
                          [
                            1,
                            "#f0f921"
                          ]
                        ],
                        "type": "contour"
                      }
                    ],
                    "contourcarpet": [
                      {
                        "colorbar": {
                          "outlinewidth": 0,
                          "ticks": ""
                        },
                        "type": "contourcarpet"
                      }
                    ],
                    "heatmap": [
                      {
                        "colorbar": {
                          "outlinewidth": 0,
                          "ticks": ""
                        },
                        "colorscale": [
                          [
                            0,
                            "#0d0887"
                          ],
                          [
                            0.1111111111111111,
                            "#46039f"
                          ],
                          [
                            0.2222222222222222,
                            "#7201a8"
                          ],
                          [
                            0.3333333333333333,
                            "#9c179e"
                          ],
                          [
                            0.4444444444444444,
                            "#bd3786"
                          ],
                          [
                            0.5555555555555556,
                            "#d8576b"
                          ],
                          [
                            0.6666666666666666,
                            "#ed7953"
                          ],
                          [
                            0.7777777777777778,
                            "#fb9f3a"
                          ],
                          [
                            0.8888888888888888,
                            "#fdca26"
                          ],
                          [
                            1,
                            "#f0f921"
                          ]
                        ],
                        "type": "heatmap"
                      }
                    ],
                    "heatmapgl": [
                      {
                        "colorbar": {
                          "outlinewidth": 0,
                          "ticks": ""
                        },
                        "colorscale": [
                          [
                            0,
                            "#0d0887"
                          ],
                          [
                            0.1111111111111111,
                            "#46039f"
                          ],
                          [
                            0.2222222222222222,
                            "#7201a8"
                          ],
                          [
                            0.3333333333333333,
                            "#9c179e"
                          ],
                          [
                            0.4444444444444444,
                            "#bd3786"
                          ],
                          [
                            0.5555555555555556,
                            "#d8576b"
                          ],
                          [
                            0.6666666666666666,
                            "#ed7953"
                          ],
                          [
                            0.7777777777777778,
                            "#fb9f3a"
                          ],
                          [
                            0.8888888888888888,
                            "#fdca26"
                          ],
                          [
                            1,
                            "#f0f921"
                          ]
                        ],
                        "type": "heatmapgl"
                      }
                    ],
                    "histogram": [
                      {
                        "marker": {
                          "pattern": {
                            "fillmode": "overlay",
                            "size": 10,
                            "solidity": 0.2
                          }
                        },
                        "type": "histogram"
                      }
                    ],
                    "histogram2d": [
                      {
                        "colorbar": {
                          "outlinewidth": 0,
                          "ticks": ""
                        },
                        "colorscale": [
                          [
                            0,
                            "#0d0887"
                          ],
                          [
                            0.1111111111111111,
                            "#46039f"
                          ],
                          [
                            0.2222222222222222,
                            "#7201a8"
                          ],
                          [
                            0.3333333333333333,
                            "#9c179e"
                          ],
                          [
                            0.4444444444444444,
                            "#bd3786"
                          ],
                          [
                            0.5555555555555556,
                            "#d8576b"
                          ],
                          [
                            0.6666666666666666,
                            "#ed7953"
                          ],
                          [
                            0.7777777777777778,
                            "#fb9f3a"
                          ],
                          [
                            0.8888888888888888,
                            "#fdca26"
                          ],
                          [
                            1,
                            "#f0f921"
                          ]
                        ],
                        "type": "histogram2d"
                      }
                    ],
                    "histogram2dcontour": [
                      {
                        "colorbar": {
                          "outlinewidth": 0,
                          "ticks": ""
                        },
                        "colorscale": [
                          [
                            0,
                            "#0d0887"
                          ],
                          [
                            0.1111111111111111,
                            "#46039f"
                          ],
                          [
                            0.2222222222222222,
                            "#7201a8"
                          ],
                          [
                            0.3333333333333333,
                            "#9c179e"
                          ],
                          [
                            0.4444444444444444,
                            "#bd3786"
                          ],
                          [
                            0.5555555555555556,
                            "#d8576b"
                          ],
                          [
                            0.6666666666666666,
                            "#ed7953"
                          ],
                          [
                            0.7777777777777778,
                            "#fb9f3a"
                          ],
                          [
                            0.8888888888888888,
                            "#fdca26"
                          ],
                          [
                            1,
                            "#f0f921"
                          ]
                        ],
                        "type": "histogram2dcontour"
                      }
                    ],
                    "mesh3d": [
                      {
                        "colorbar": {
                          "outlinewidth": 0,
                          "ticks": ""
                        },
                        "type": "mesh3d"
                      }
                    ],
                    "parcoords": [
                      {
                        "line": {
                          "colorbar": {
                            "outlinewidth": 0,
                            "ticks": ""
                          }
                        },
                        "type": "parcoords"
                      }
                    ],
                    "pie": [
                      {
                        "automargin": true,
                        "type": "pie"
                      }
                    ],
                    "scatter": [
                      {
                        "fillpattern": {
                          "fillmode": "overlay",
                          "size": 10,
                          "solidity": 0.2
                        },
                        "type": "scatter"
                      }
                    ],
                    "scatter3d": [
                      {
                        "line": {
                          "colorbar": {
                            "outlinewidth": 0,
                            "ticks": ""
                          }
                        },
                        "marker": {
                          "colorbar": {
                            "outlinewidth": 0,
                            "ticks": ""
                          }
                        },
                        "type": "scatter3d"
                      }
                    ],
                    "scattercarpet": [
                      {
                        "marker": {
                          "colorbar": {
                            "outlinewidth": 0,
                            "ticks": ""
                          }
                        },
                        "type": "scattercarpet"
                      }
                    ],
                    "scattergeo": [
                      {
                        "marker": {
                          "colorbar": {
                            "outlinewidth": 0,
                            "ticks": ""
                          }
                        },
                        "type": "scattergeo"
                      }
                    ],
                    "scattergl": [
                      {
                        "marker": {
                          "colorbar": {
                            "outlinewidth": 0,
                            "ticks": ""
                          }
                        },
                        "type": "scattergl"
                      }
                    ],
                    "scattermapbox": [
                      {
                        "marker": {
                          "colorbar": {
                            "outlinewidth": 0,
                            "ticks": ""
                          }
                        },
                        "type": "scattermapbox"
                      }
                    ],
                    "scatterpolar": [
                      {
                        "marker": {
                          "colorbar": {
                            "outlinewidth": 0,
                            "ticks": ""
                          }
                        },
                        "type": "scatterpolar"
                      }
                    ],
                    "scatterpolargl": [
                      {
                        "marker": {
                          "colorbar": {
                            "outlinewidth": 0,
                            "ticks": ""
                          }
                        },
                        "type": "scatterpolargl"
                      }
                    ],
                    "scatterternary": [
                      {
                        "marker": {
                          "colorbar": {
                            "outlinewidth": 0,
                            "ticks": ""
                          }
                        },
                        "type": "scatterternary"
                      }
                    ],
                    "surface": [
                      {
                        "colorbar": {
                          "outlinewidth": 0,
                          "ticks": ""
                        },
                        "colorscale": [
                          [
                            0,
                            "#0d0887"
                          ],
                          [
                            0.1111111111111111,
                            "#46039f"
                          ],
                          [
                            0.2222222222222222,
                            "#7201a8"
                          ],
                          [
                            0.3333333333333333,
                            "#9c179e"
                          ],
                          [
                            0.4444444444444444,
                            "#bd3786"
                          ],
                          [
                            0.5555555555555556,
                            "#d8576b"
                          ],
                          [
                            0.6666666666666666,
                            "#ed7953"
                          ],
                          [
                            0.7777777777777778,
                            "#fb9f3a"
                          ],
                          [
                            0.8888888888888888,
                            "#fdca26"
                          ],
                          [
                            1,
                            "#f0f921"
                          ]
                        ],
                        "type": "surface"
                      }
                    ],
                    "table": [
                      {
                        "cells": {
                          "fill": {
                            "color": "#EBF0F8"
                          },
                          "line": {
                            "color": "white"
                          }
                        },
                        "header": {
                          "fill": {
                            "color": "#C8D4E3"
                          },
                          "line": {
                            "color": "white"
                          }
                        },
                        "type": "table"
                      }
                    ]
                  },
                  "layout": {
                    "annotationdefaults": {
                      "arrowcolor": "#2a3f5f",
                      "arrowhead": 0,
                      "arrowwidth": 1
                    },
                    "autotypenumbers": "strict",
                    "coloraxis": {
                      "colorbar": {
                        "outlinewidth": 0,
                        "ticks": ""
                      }
                    },
                    "colorscale": {
                      "diverging": [
                        [
                          0,
                          "#8e0152"
                        ],
                        [
                          0.1,
                          "#c51b7d"
                        ],
                        [
                          0.2,
                          "#de77ae"
                        ],
                        [
                          0.3,
                          "#f1b6da"
                        ],
                        [
                          0.4,
                          "#fde0ef"
                        ],
                        [
                          0.5,
                          "#f7f7f7"
                        ],
                        [
                          0.6,
                          "#e6f5d0"
                        ],
                        [
                          0.7,
                          "#b8e186"
                        ],
                        [
                          0.8,
                          "#7fbc41"
                        ],
                        [
                          0.9,
                          "#4d9221"
                        ],
                        [
                          1,
                          "#276419"
                        ]
                      ],
                      "sequential": [
                        [
                          0,
                          "#0d0887"
                        ],
                        [
                          0.1111111111111111,
                          "#46039f"
                        ],
                        [
                          0.2222222222222222,
                          "#7201a8"
                        ],
                        [
                          0.3333333333333333,
                          "#9c179e"
                        ],
                        [
                          0.4444444444444444,
                          "#bd3786"
                        ],
                        [
                          0.5555555555555556,
                          "#d8576b"
                        ],
                        [
                          0.6666666666666666,
                          "#ed7953"
                        ],
                        [
                          0.7777777777777778,
                          "#fb9f3a"
                        ],
                        [
                          0.8888888888888888,
                          "#fdca26"
                        ],
                        [
                          1,
                          "#f0f921"
                        ]
                      ],
                      "sequentialminus": [
                        [
                          0,
                          "#0d0887"
                        ],
                        [
                          0.1111111111111111,
                          "#46039f"
                        ],
                        [
                          0.2222222222222222,
                          "#7201a8"
                        ],
                        [
                          0.3333333333333333,
                          "#9c179e"
                        ],
                        [
                          0.4444444444444444,
                          "#bd3786"
                        ],
                        [
                          0.5555555555555556,
                          "#d8576b"
                        ],
                        [
                          0.6666666666666666,
                          "#ed7953"
                        ],
                        [
                          0.7777777777777778,
                          "#fb9f3a"
                        ],
                        [
                          0.8888888888888888,
                          "#fdca26"
                        ],
                        [
                          1,
                          "#f0f921"
                        ]
                      ]
                    },
                    "colorway": [
                      "#636efa",
                      "#EF553B",
                      "#00cc96",
                      "#ab63fa",
                      "#FFA15A",
                      "#19d3f3",
                      "#FF6692",
                      "#B6E880",
                      "#FF97FF",
                      "#FECB52"
                    ],
                    "font": {
                      "color": "#2a3f5f"
                    },
                    "geo": {
                      "bgcolor": "white",
                      "lakecolor": "white",
                      "landcolor": "#E5ECF6",
                      "showlakes": true,
                      "showland": true,
                      "subunitcolor": "white"
                    },
                    "hoverlabel": {
                      "align": "left"
                    },
                    "hovermode": "closest",
                    "mapbox": {
                      "style": "light"
                    },
                    "paper_bgcolor": "white",
                    "plot_bgcolor": "#E5ECF6",
                    "polar": {
                      "angularaxis": {
                        "gridcolor": "white",
                        "linecolor": "white",
                        "ticks": ""
                      },
                      "bgcolor": "#E5ECF6",
                      "radialaxis": {
                        "gridcolor": "white",
                        "linecolor": "white",
                        "ticks": ""
                      }
                    },
                    "scene": {
                      "xaxis": {
                        "backgroundcolor": "#E5ECF6",
                        "gridcolor": "white",
                        "gridwidth": 2,
                        "linecolor": "white",
                        "showbackground": true,
                        "ticks": "",
                        "zerolinecolor": "white"
                      },
                      "yaxis": {
                        "backgroundcolor": "#E5ECF6",
                        "gridcolor": "white",
                        "gridwidth": 2,
                        "linecolor": "white",
                        "showbackground": true,
                        "ticks": "",
                        "zerolinecolor": "white"
                      },
                      "zaxis": {
                        "backgroundcolor": "#E5ECF6",
                        "gridcolor": "white",
                        "gridwidth": 2,
                        "linecolor": "white",
                        "showbackground": true,
                        "ticks": "",
                        "zerolinecolor": "white"
                      }
                    },
                    "shapedefaults": {
                      "line": {
                        "color": "#2a3f5f"
                      }
                    },
                    "ternary": {
                      "aaxis": {
                        "gridcolor": "white",
                        "linecolor": "white",
                        "ticks": ""
                      },
                      "baxis": {
                        "gridcolor": "white",
                        "linecolor": "white",
                        "ticks": ""
                      },
                      "bgcolor": "#E5ECF6",
                      "caxis": {
                        "gridcolor": "white",
                        "linecolor": "white",
                        "ticks": ""
                      }
                    },
                    "title": {
                      "x": 0.05
                    },
                    "xaxis": {
                      "automargin": true,
                      "gridcolor": "white",
                      "linecolor": "white",
                      "ticks": "",
                      "title": {
                        "standoff": 15
                      },
                      "zerolinecolor": "white",
                      "zerolinewidth": 2
                    },
                    "yaxis": {
                      "automargin": true,
                      "gridcolor": "white",
                      "linecolor": "white",
                      "ticks": "",
                      "title": {
                        "standoff": 15
                      },
                      "zerolinecolor": "white",
                      "zerolinewidth": 2
                    }
                  }
                },
                "xaxis": {
                  "anchor": "y",
                  "domain": [
                    0,
                    1
                  ],
                  "title": {
                    "text": "speed_mean"
                  }
                },
                "yaxis": {
                  "anchor": "x",
                  "domain": [
                    0,
                    1
                  ],
                  "title": {
                    "text": "time_mean"
                  }
                }
              }
            }
          },
          "metadata": {},
          "output_type": "display_data"
        }
      ],
      "source": [
        "fig = px.scatter(\n",
        "      df_avg[:10],\n",
        "      x = \"speed_mean\",\n",
        "      y = \"time_mean\",\n",
        "      hover_data = [\"AirportFrom\", \"AirportTo\", \"length_mean\"]\n",
        "  )\n",
        "\n",
        "fig.show()\n",
        "fig.write_html(\"Time_v_speed_high_time.html\")\n"
      ]
    },
    {
      "cell_type": "code",
      "execution_count": 183,
      "metadata": {
        "colab": {
          "base_uri": "https://localhost:8080/",
          "height": 542
        },
        "id": "zBbq0b9v6XOx",
        "outputId": "e32e488c-ac6d-4125-bd05-5ca451e70ad2"
      },
      "outputs": [
        {
          "data": {
            "application/vnd.plotly.v1+json": {
              "config": {
                "plotlyServerURL": "https://plot.ly"
              },
              "data": [
                {
                  "customdata": [
                    [
                      "DEN",
                      "COS",
                      34.59146341463415
                    ],
                    [
                      "OGG",
                      "KOA",
                      32.40625
                    ],
                    [
                      "TVC",
                      "MQT",
                      45
                    ],
                    [
                      "LIH",
                      "HNL",
                      30.314787701317716
                    ],
                    [
                      "GRB",
                      "MQT",
                      40
                    ],
                    [
                      "PSG",
                      "WRG",
                      27.862068965517242
                    ],
                    [
                      "CWA",
                      "EAU",
                      38
                    ],
                    [
                      "CEC",
                      "ACV",
                      28.51851851851852
                    ],
                    [
                      "IDA",
                      "PIH",
                      25
                    ],
                    [
                      "YUM",
                      "IPL",
                      27
                    ]
                  ],
                  "hovertemplate": "speed_mean=%{x}<br>time_mean=%{y}<br>AirportFrom=%{customdata[0]}<br>AirportTo=%{customdata[1]}<br>length_mean=%{customdata[2]}<extra></extra>",
                  "legendgroup": "",
                  "marker": {
                    "color": "#636efa",
                    "symbol": "circle"
                  },
                  "mode": "markers",
                  "name": "",
                  "orientation": "v",
                  "showlegend": false,
                  "type": "scatter",
                  "x": [
                    0.0368926419566822,
                    0.03680959818259265,
                    0.03640449438202247,
                    0.035595417380122264,
                    0.03379752777343139,
                    0.030023781212841855,
                    0.027441959987161656,
                    0.02588061306802904,
                    0.025252525252525252,
                    0.019571622316793717
                  ],
                  "xaxis": "x",
                  "y": [
                    937.625,
                    880.375,
                    1236.111111111111,
                    851.6486090775988,
                    1183.5185185185185,
                    928,
                    1384.7407407407406,
                    1101.9259259259259,
                    990,
                    1379.5483870967741
                  ],
                  "yaxis": "y"
                }
              ],
              "layout": {
                "legend": {
                  "tracegroupgap": 0
                },
                "margin": {
                  "t": 60
                },
                "template": {
                  "data": {
                    "bar": [
                      {
                        "error_x": {
                          "color": "#2a3f5f"
                        },
                        "error_y": {
                          "color": "#2a3f5f"
                        },
                        "marker": {
                          "line": {
                            "color": "#E5ECF6",
                            "width": 0.5
                          },
                          "pattern": {
                            "fillmode": "overlay",
                            "size": 10,
                            "solidity": 0.2
                          }
                        },
                        "type": "bar"
                      }
                    ],
                    "barpolar": [
                      {
                        "marker": {
                          "line": {
                            "color": "#E5ECF6",
                            "width": 0.5
                          },
                          "pattern": {
                            "fillmode": "overlay",
                            "size": 10,
                            "solidity": 0.2
                          }
                        },
                        "type": "barpolar"
                      }
                    ],
                    "carpet": [
                      {
                        "aaxis": {
                          "endlinecolor": "#2a3f5f",
                          "gridcolor": "white",
                          "linecolor": "white",
                          "minorgridcolor": "white",
                          "startlinecolor": "#2a3f5f"
                        },
                        "baxis": {
                          "endlinecolor": "#2a3f5f",
                          "gridcolor": "white",
                          "linecolor": "white",
                          "minorgridcolor": "white",
                          "startlinecolor": "#2a3f5f"
                        },
                        "type": "carpet"
                      }
                    ],
                    "choropleth": [
                      {
                        "colorbar": {
                          "outlinewidth": 0,
                          "ticks": ""
                        },
                        "type": "choropleth"
                      }
                    ],
                    "contour": [
                      {
                        "colorbar": {
                          "outlinewidth": 0,
                          "ticks": ""
                        },
                        "colorscale": [
                          [
                            0,
                            "#0d0887"
                          ],
                          [
                            0.1111111111111111,
                            "#46039f"
                          ],
                          [
                            0.2222222222222222,
                            "#7201a8"
                          ],
                          [
                            0.3333333333333333,
                            "#9c179e"
                          ],
                          [
                            0.4444444444444444,
                            "#bd3786"
                          ],
                          [
                            0.5555555555555556,
                            "#d8576b"
                          ],
                          [
                            0.6666666666666666,
                            "#ed7953"
                          ],
                          [
                            0.7777777777777778,
                            "#fb9f3a"
                          ],
                          [
                            0.8888888888888888,
                            "#fdca26"
                          ],
                          [
                            1,
                            "#f0f921"
                          ]
                        ],
                        "type": "contour"
                      }
                    ],
                    "contourcarpet": [
                      {
                        "colorbar": {
                          "outlinewidth": 0,
                          "ticks": ""
                        },
                        "type": "contourcarpet"
                      }
                    ],
                    "heatmap": [
                      {
                        "colorbar": {
                          "outlinewidth": 0,
                          "ticks": ""
                        },
                        "colorscale": [
                          [
                            0,
                            "#0d0887"
                          ],
                          [
                            0.1111111111111111,
                            "#46039f"
                          ],
                          [
                            0.2222222222222222,
                            "#7201a8"
                          ],
                          [
                            0.3333333333333333,
                            "#9c179e"
                          ],
                          [
                            0.4444444444444444,
                            "#bd3786"
                          ],
                          [
                            0.5555555555555556,
                            "#d8576b"
                          ],
                          [
                            0.6666666666666666,
                            "#ed7953"
                          ],
                          [
                            0.7777777777777778,
                            "#fb9f3a"
                          ],
                          [
                            0.8888888888888888,
                            "#fdca26"
                          ],
                          [
                            1,
                            "#f0f921"
                          ]
                        ],
                        "type": "heatmap"
                      }
                    ],
                    "heatmapgl": [
                      {
                        "colorbar": {
                          "outlinewidth": 0,
                          "ticks": ""
                        },
                        "colorscale": [
                          [
                            0,
                            "#0d0887"
                          ],
                          [
                            0.1111111111111111,
                            "#46039f"
                          ],
                          [
                            0.2222222222222222,
                            "#7201a8"
                          ],
                          [
                            0.3333333333333333,
                            "#9c179e"
                          ],
                          [
                            0.4444444444444444,
                            "#bd3786"
                          ],
                          [
                            0.5555555555555556,
                            "#d8576b"
                          ],
                          [
                            0.6666666666666666,
                            "#ed7953"
                          ],
                          [
                            0.7777777777777778,
                            "#fb9f3a"
                          ],
                          [
                            0.8888888888888888,
                            "#fdca26"
                          ],
                          [
                            1,
                            "#f0f921"
                          ]
                        ],
                        "type": "heatmapgl"
                      }
                    ],
                    "histogram": [
                      {
                        "marker": {
                          "pattern": {
                            "fillmode": "overlay",
                            "size": 10,
                            "solidity": 0.2
                          }
                        },
                        "type": "histogram"
                      }
                    ],
                    "histogram2d": [
                      {
                        "colorbar": {
                          "outlinewidth": 0,
                          "ticks": ""
                        },
                        "colorscale": [
                          [
                            0,
                            "#0d0887"
                          ],
                          [
                            0.1111111111111111,
                            "#46039f"
                          ],
                          [
                            0.2222222222222222,
                            "#7201a8"
                          ],
                          [
                            0.3333333333333333,
                            "#9c179e"
                          ],
                          [
                            0.4444444444444444,
                            "#bd3786"
                          ],
                          [
                            0.5555555555555556,
                            "#d8576b"
                          ],
                          [
                            0.6666666666666666,
                            "#ed7953"
                          ],
                          [
                            0.7777777777777778,
                            "#fb9f3a"
                          ],
                          [
                            0.8888888888888888,
                            "#fdca26"
                          ],
                          [
                            1,
                            "#f0f921"
                          ]
                        ],
                        "type": "histogram2d"
                      }
                    ],
                    "histogram2dcontour": [
                      {
                        "colorbar": {
                          "outlinewidth": 0,
                          "ticks": ""
                        },
                        "colorscale": [
                          [
                            0,
                            "#0d0887"
                          ],
                          [
                            0.1111111111111111,
                            "#46039f"
                          ],
                          [
                            0.2222222222222222,
                            "#7201a8"
                          ],
                          [
                            0.3333333333333333,
                            "#9c179e"
                          ],
                          [
                            0.4444444444444444,
                            "#bd3786"
                          ],
                          [
                            0.5555555555555556,
                            "#d8576b"
                          ],
                          [
                            0.6666666666666666,
                            "#ed7953"
                          ],
                          [
                            0.7777777777777778,
                            "#fb9f3a"
                          ],
                          [
                            0.8888888888888888,
                            "#fdca26"
                          ],
                          [
                            1,
                            "#f0f921"
                          ]
                        ],
                        "type": "histogram2dcontour"
                      }
                    ],
                    "mesh3d": [
                      {
                        "colorbar": {
                          "outlinewidth": 0,
                          "ticks": ""
                        },
                        "type": "mesh3d"
                      }
                    ],
                    "parcoords": [
                      {
                        "line": {
                          "colorbar": {
                            "outlinewidth": 0,
                            "ticks": ""
                          }
                        },
                        "type": "parcoords"
                      }
                    ],
                    "pie": [
                      {
                        "automargin": true,
                        "type": "pie"
                      }
                    ],
                    "scatter": [
                      {
                        "fillpattern": {
                          "fillmode": "overlay",
                          "size": 10,
                          "solidity": 0.2
                        },
                        "type": "scatter"
                      }
                    ],
                    "scatter3d": [
                      {
                        "line": {
                          "colorbar": {
                            "outlinewidth": 0,
                            "ticks": ""
                          }
                        },
                        "marker": {
                          "colorbar": {
                            "outlinewidth": 0,
                            "ticks": ""
                          }
                        },
                        "type": "scatter3d"
                      }
                    ],
                    "scattercarpet": [
                      {
                        "marker": {
                          "colorbar": {
                            "outlinewidth": 0,
                            "ticks": ""
                          }
                        },
                        "type": "scattercarpet"
                      }
                    ],
                    "scattergeo": [
                      {
                        "marker": {
                          "colorbar": {
                            "outlinewidth": 0,
                            "ticks": ""
                          }
                        },
                        "type": "scattergeo"
                      }
                    ],
                    "scattergl": [
                      {
                        "marker": {
                          "colorbar": {
                            "outlinewidth": 0,
                            "ticks": ""
                          }
                        },
                        "type": "scattergl"
                      }
                    ],
                    "scattermapbox": [
                      {
                        "marker": {
                          "colorbar": {
                            "outlinewidth": 0,
                            "ticks": ""
                          }
                        },
                        "type": "scattermapbox"
                      }
                    ],
                    "scatterpolar": [
                      {
                        "marker": {
                          "colorbar": {
                            "outlinewidth": 0,
                            "ticks": ""
                          }
                        },
                        "type": "scatterpolar"
                      }
                    ],
                    "scatterpolargl": [
                      {
                        "marker": {
                          "colorbar": {
                            "outlinewidth": 0,
                            "ticks": ""
                          }
                        },
                        "type": "scatterpolargl"
                      }
                    ],
                    "scatterternary": [
                      {
                        "marker": {
                          "colorbar": {
                            "outlinewidth": 0,
                            "ticks": ""
                          }
                        },
                        "type": "scatterternary"
                      }
                    ],
                    "surface": [
                      {
                        "colorbar": {
                          "outlinewidth": 0,
                          "ticks": ""
                        },
                        "colorscale": [
                          [
                            0,
                            "#0d0887"
                          ],
                          [
                            0.1111111111111111,
                            "#46039f"
                          ],
                          [
                            0.2222222222222222,
                            "#7201a8"
                          ],
                          [
                            0.3333333333333333,
                            "#9c179e"
                          ],
                          [
                            0.4444444444444444,
                            "#bd3786"
                          ],
                          [
                            0.5555555555555556,
                            "#d8576b"
                          ],
                          [
                            0.6666666666666666,
                            "#ed7953"
                          ],
                          [
                            0.7777777777777778,
                            "#fb9f3a"
                          ],
                          [
                            0.8888888888888888,
                            "#fdca26"
                          ],
                          [
                            1,
                            "#f0f921"
                          ]
                        ],
                        "type": "surface"
                      }
                    ],
                    "table": [
                      {
                        "cells": {
                          "fill": {
                            "color": "#EBF0F8"
                          },
                          "line": {
                            "color": "white"
                          }
                        },
                        "header": {
                          "fill": {
                            "color": "#C8D4E3"
                          },
                          "line": {
                            "color": "white"
                          }
                        },
                        "type": "table"
                      }
                    ]
                  },
                  "layout": {
                    "annotationdefaults": {
                      "arrowcolor": "#2a3f5f",
                      "arrowhead": 0,
                      "arrowwidth": 1
                    },
                    "autotypenumbers": "strict",
                    "coloraxis": {
                      "colorbar": {
                        "outlinewidth": 0,
                        "ticks": ""
                      }
                    },
                    "colorscale": {
                      "diverging": [
                        [
                          0,
                          "#8e0152"
                        ],
                        [
                          0.1,
                          "#c51b7d"
                        ],
                        [
                          0.2,
                          "#de77ae"
                        ],
                        [
                          0.3,
                          "#f1b6da"
                        ],
                        [
                          0.4,
                          "#fde0ef"
                        ],
                        [
                          0.5,
                          "#f7f7f7"
                        ],
                        [
                          0.6,
                          "#e6f5d0"
                        ],
                        [
                          0.7,
                          "#b8e186"
                        ],
                        [
                          0.8,
                          "#7fbc41"
                        ],
                        [
                          0.9,
                          "#4d9221"
                        ],
                        [
                          1,
                          "#276419"
                        ]
                      ],
                      "sequential": [
                        [
                          0,
                          "#0d0887"
                        ],
                        [
                          0.1111111111111111,
                          "#46039f"
                        ],
                        [
                          0.2222222222222222,
                          "#7201a8"
                        ],
                        [
                          0.3333333333333333,
                          "#9c179e"
                        ],
                        [
                          0.4444444444444444,
                          "#bd3786"
                        ],
                        [
                          0.5555555555555556,
                          "#d8576b"
                        ],
                        [
                          0.6666666666666666,
                          "#ed7953"
                        ],
                        [
                          0.7777777777777778,
                          "#fb9f3a"
                        ],
                        [
                          0.8888888888888888,
                          "#fdca26"
                        ],
                        [
                          1,
                          "#f0f921"
                        ]
                      ],
                      "sequentialminus": [
                        [
                          0,
                          "#0d0887"
                        ],
                        [
                          0.1111111111111111,
                          "#46039f"
                        ],
                        [
                          0.2222222222222222,
                          "#7201a8"
                        ],
                        [
                          0.3333333333333333,
                          "#9c179e"
                        ],
                        [
                          0.4444444444444444,
                          "#bd3786"
                        ],
                        [
                          0.5555555555555556,
                          "#d8576b"
                        ],
                        [
                          0.6666666666666666,
                          "#ed7953"
                        ],
                        [
                          0.7777777777777778,
                          "#fb9f3a"
                        ],
                        [
                          0.8888888888888888,
                          "#fdca26"
                        ],
                        [
                          1,
                          "#f0f921"
                        ]
                      ]
                    },
                    "colorway": [
                      "#636efa",
                      "#EF553B",
                      "#00cc96",
                      "#ab63fa",
                      "#FFA15A",
                      "#19d3f3",
                      "#FF6692",
                      "#B6E880",
                      "#FF97FF",
                      "#FECB52"
                    ],
                    "font": {
                      "color": "#2a3f5f"
                    },
                    "geo": {
                      "bgcolor": "white",
                      "lakecolor": "white",
                      "landcolor": "#E5ECF6",
                      "showlakes": true,
                      "showland": true,
                      "subunitcolor": "white"
                    },
                    "hoverlabel": {
                      "align": "left"
                    },
                    "hovermode": "closest",
                    "mapbox": {
                      "style": "light"
                    },
                    "paper_bgcolor": "white",
                    "plot_bgcolor": "#E5ECF6",
                    "polar": {
                      "angularaxis": {
                        "gridcolor": "white",
                        "linecolor": "white",
                        "ticks": ""
                      },
                      "bgcolor": "#E5ECF6",
                      "radialaxis": {
                        "gridcolor": "white",
                        "linecolor": "white",
                        "ticks": ""
                      }
                    },
                    "scene": {
                      "xaxis": {
                        "backgroundcolor": "#E5ECF6",
                        "gridcolor": "white",
                        "gridwidth": 2,
                        "linecolor": "white",
                        "showbackground": true,
                        "ticks": "",
                        "zerolinecolor": "white"
                      },
                      "yaxis": {
                        "backgroundcolor": "#E5ECF6",
                        "gridcolor": "white",
                        "gridwidth": 2,
                        "linecolor": "white",
                        "showbackground": true,
                        "ticks": "",
                        "zerolinecolor": "white"
                      },
                      "zaxis": {
                        "backgroundcolor": "#E5ECF6",
                        "gridcolor": "white",
                        "gridwidth": 2,
                        "linecolor": "white",
                        "showbackground": true,
                        "ticks": "",
                        "zerolinecolor": "white"
                      }
                    },
                    "shapedefaults": {
                      "line": {
                        "color": "#2a3f5f"
                      }
                    },
                    "ternary": {
                      "aaxis": {
                        "gridcolor": "white",
                        "linecolor": "white",
                        "ticks": ""
                      },
                      "baxis": {
                        "gridcolor": "white",
                        "linecolor": "white",
                        "ticks": ""
                      },
                      "bgcolor": "#E5ECF6",
                      "caxis": {
                        "gridcolor": "white",
                        "linecolor": "white",
                        "ticks": ""
                      }
                    },
                    "title": {
                      "x": 0.05
                    },
                    "xaxis": {
                      "automargin": true,
                      "gridcolor": "white",
                      "linecolor": "white",
                      "ticks": "",
                      "title": {
                        "standoff": 15
                      },
                      "zerolinecolor": "white",
                      "zerolinewidth": 2
                    },
                    "yaxis": {
                      "automargin": true,
                      "gridcolor": "white",
                      "linecolor": "white",
                      "ticks": "",
                      "title": {
                        "standoff": 15
                      },
                      "zerolinecolor": "white",
                      "zerolinewidth": 2
                    }
                  }
                },
                "xaxis": {
                  "anchor": "y",
                  "domain": [
                    0,
                    1
                  ],
                  "title": {
                    "text": "speed_mean"
                  }
                },
                "yaxis": {
                  "anchor": "x",
                  "domain": [
                    0,
                    1
                  ],
                  "title": {
                    "text": "time_mean"
                  }
                }
              }
            }
          },
          "metadata": {},
          "output_type": "display_data"
        }
      ],
      "source": [
        "fig = px.scatter(\n",
        "      df_avg[-10:],\n",
        "      x = \"speed_mean\",\n",
        "      y = \"time_mean\",\n",
        "      hover_data = [\"AirportFrom\", \"AirportTo\", \"length_mean\"]\n",
        "  )\n",
        "\n",
        "fig.show()\n",
        "fig.write_html(\"Time_v_speed_low_time.html\")"
      ]
    },
    {
      "cell_type": "markdown",
      "metadata": {
        "id": "7E9uuLE7CKMl"
      },
      "source": [
        "**Distributions**"
      ]
    },
    {
      "cell_type": "code",
      "execution_count": 184,
      "metadata": {
        "colab": {
          "base_uri": "https://localhost:8080/"
        },
        "id": "3Rd7-FjlCcm9",
        "outputId": "16222f95-e865-4b9a-ad09-196bf8e90c3d"
      },
      "outputs": [
        {
          "name": "stdout",
          "output_type": "stream",
          "text": [
            "['Flight', 'DayOfWeek', 'Time', 'Length']\n"
          ]
        }
      ],
      "source": [
        "# NUMERIC FEATURES:\n",
        "numeric_data = x_df.select_dtypes(include=np.number) # select_dtypes selects data with numeric features\n",
        "numeric_col = list(numeric_data.columns )\n",
        "print(numeric_col)"
      ]
    },
    {
      "cell_type": "code",
      "execution_count": 185,
      "metadata": {
        "colab": {
          "base_uri": "https://localhost:8080/"
        },
        "id": "PQV_uXUDCpFJ",
        "outputId": "7bdc4698-82ca-4e11-8da3-7c76894b362c"
      },
      "outputs": [
        {
          "name": "stdout",
          "output_type": "stream",
          "text": [
            "['Airline', 'AirportFrom', 'AirportTo']\n"
          ]
        }
      ],
      "source": [
        "categorical_data = x_df.select_dtypes(exclude=np.number) # we will exclude data with numeric features\n",
        "categorical_col = list(categorical_data.columns)\n",
        "print(categorical_col)"
      ]
    },
    {
      "cell_type": "code",
      "execution_count": 186,
      "metadata": {
        "colab": {
          "base_uri": "https://localhost:8080/",
          "height": 749
        },
        "id": "4wRsFwU97J4E",
        "outputId": "1e23b6ed-3fd5-4d70-b240-1f91278add72"
      },
      "outputs": [
        {
          "data": {
            "image/png": "[encoded data removed]",
            "text/plain": [
              "<Figure size 1440x1800 with 4 Axes>"
            ]
          },
          "metadata": {},
          "output_type": "display_data"
        }
      ],
      "source": [
        "# let's see how data is distributed for every column\n",
        "plt.figure(figsize=(20,25), facecolor='white')\n",
        "plotnumber = 1\n",
        "\n",
        "for column in numeric_data:\n",
        "    if plotnumber<=16 :\n",
        "        ax = plt.subplot(3,3,plotnumber)\n",
        "        sns.distplot(x_df[column])\n",
        "        plt.xlabel(column,fontsize=20)\n",
        "        #plt.ylabel('Salary',fontsize=20)\n",
        "    plotnumber+=1\n",
        "plt.tight_layout()"
      ]
    },
    {
      "cell_type": "markdown",
      "metadata": {
        "id": "eJz5FThYEzzu"
      },
      "source": [
        "The time data looks to be resembling a normal distribution in a vague way, and the day of the week column is a numerical encoding thay represents days of the week, while also being fairly equally distributed.\n",
        "\n",
        "Hence, we will check the skew for the remaining columns and try to transform them in a way that minimises the skew."
      ]
    },
    {
      "cell_type": "code",
      "execution_count": 187,
      "metadata": {
        "colab": {
          "base_uri": "https://localhost:8080/"
        },
        "id": "zQ5qUvlbFY43",
        "outputId": "aadb6321-f9c2-42ec-e7c4-8e33be1e3498"
      },
      "outputs": [
        {
          "name": "stdout",
          "output_type": "stream",
          "text": [
            "Skew for the Flight column :  0.8688884271425507\n",
            "Skew for the Length column :  1.493965825038786\n"
          ]
        }
      ],
      "source": [
        "print(\"Skew for the Flight column : \", df['Flight'].skew())\n",
        "print(\"Skew for the Length column : \", df['Length'].skew())"
      ]
    },
    {
      "cell_type": "markdown",
      "metadata": {
        "id": "bIbzpdD2FZUM"
      },
      "source": [
        "*Log Transform*"
      ]
    },
    {
      "cell_type": "code",
      "execution_count": 188,
      "metadata": {
        "colab": {
          "base_uri": "https://localhost:8080/"
        },
        "id": "0OLgWdN6FitE",
        "outputId": "f21a55e5-a8a2-49b4-c4d1-bdadacacb944"
      },
      "outputs": [
        {
          "name": "stdout",
          "output_type": "stream",
          "text": [
            "Skew for the log transformed Flight column :  -1.3192248064951917\n",
            "Skew for the log transformed Length column :  0.17474949823180538\n"
          ]
        }
      ],
      "source": [
        "new_flight_log = np.log(x_df['Flight'])\n",
        "new_length_log = np.log(x_df['Length'])\n",
        "\n",
        "\n",
        "print(\"Skew for the log transformed Flight column : \", new_flight_log.skew())\n",
        "print(\"Skew for the log transformed Length column : \", new_length_log.skew())"
      ]
    },
    {
      "cell_type": "markdown",
      "metadata": {
        "id": "gSKUNXEzGpAw"
      },
      "source": [
        "*Square root Tranform*"
      ]
    },
    {
      "cell_type": "code",
      "execution_count": 189,
      "metadata": {
        "colab": {
          "base_uri": "https://localhost:8080/"
        },
        "id": "1QzhdqPOGhXt",
        "outputId": "cbbfd761-b4a2-4461-8bc2-e44539430b77"
      },
      "outputs": [
        {
          "name": "stdout",
          "output_type": "stream",
          "text": [
            "Skew for the log transformed Length column :  0.8137366172170706\n"
          ]
        }
      ],
      "source": [
        "#new_flight_sqrt = np.sqrt(x_df['Flight'])\n",
        "new_length_sqrt = np.sqrt(x_df['Length'])\n",
        "\n",
        "#print(\"Skew for the log transformed Flight column : \", new_flight_sqrt.skew())\n",
        "print(\"Skew for the log transformed Length column : \", new_length_sqrt.skew())"
      ]
    },
    {
      "cell_type": "markdown",
      "metadata": {
        "id": "ZY6H5gTAHGxT"
      },
      "source": [
        "It looks like the skew is minimised when we apply the log transform and sqaure root transform to the Flight and Time columns, respectively.\n",
        "\n",
        "Hence, we apply these transformations to our data."
      ]
    },
    {
      "cell_type": "code",
      "execution_count": 190,
      "metadata": {
        "id": "jlE8NA7sHEyG"
      },
      "outputs": [],
      "source": [
        "#x_df[\"Flight\"] = np.sqrt(x_df['Flight'])\n",
        "x_df[\"Length\"] = np.log(x_df['Length'])"
      ]
    },
    {
      "cell_type": "code",
      "execution_count": 191,
      "metadata": {
        "colab": {
          "base_uri": "https://localhost:8080/",
          "height": 749
        },
        "id": "qx3uSIBIIIyx",
        "outputId": "1ec3500c-0ab5-4895-b6ad-1a35fbff9014"
      },
      "outputs": [
        {
          "data": {
            "image/png": "[encoded data removed]",
            "text/plain": [
              "<Figure size 1440x1800 with 4 Axes>"
            ]
          },
          "metadata": {},
          "output_type": "display_data"
        }
      ],
      "source": [
        "plt.figure(figsize=(20,25), facecolor='white')\n",
        "plotnumber = 1\n",
        "\n",
        "for column in numeric_data:\n",
        "    if plotnumber<=16 :\n",
        "        ax = plt.subplot(3,3,plotnumber)\n",
        "        sns.distplot(x_df[column])\n",
        "        plt.xlabel(column,fontsize=20)\n",
        "        #plt.ylabel('Salary',fontsize=20)\n",
        "    plotnumber+=1\n",
        "plt.tight_layout()"
      ]
    },
    {
      "cell_type": "code",
      "execution_count": 192,
      "metadata": {
        "colab": {
          "base_uri": "https://localhost:8080/",
          "height": 749
        },
        "id": "SNkUeU8wIXha",
        "outputId": "4f2a1a84-01e0-48d7-e93d-a58193802a94"
      },
      "outputs": [
        {
          "data": {
            "image/png": "[encoded data removed]",
            "text/plain": [
              "<Figure size 1440x1800 with 4 Axes>"
            ]
          },
          "metadata": {},
          "output_type": "display_data"
        }
      ],
      "source": [
        "plt.figure(figsize=(20,25), facecolor='white')\n",
        "plotnumber = 1\n",
        "\n",
        "for column in numeric_data:\n",
        "    if plotnumber<=16 :\n",
        "        ax = plt.subplot(3,3,plotnumber)\n",
        "        sns.boxplot(x=y_df, y=column, data=x_df, showfliers=False, showbox=False, whis = [25, 75])\n",
        "        sns.violinplot(y_df, x_df[column], )\n",
        "        plt.xlabel(column,fontsize=20)\n",
        "    plotnumber+=1\n",
        "plt.tight_layout()"
      ]
    },
    {
      "cell_type": "code",
      "execution_count": 193,
      "metadata": {
        "colab": {
          "base_uri": "https://localhost:8080/",
          "height": 286
        },
        "id": "hoTrT9fvuqCb",
        "outputId": "80fba063-dcb1-43c8-f288-38f85b23e3c7"
      },
      "outputs": [
        {
          "data": {
            "text/plain": [
              "<AxesSubplot:>"
            ]
          },
          "execution_count": 193,
          "metadata": {},
          "output_type": "execute_result"
        },
        {
          "data": {
            "image/png": "[encoded data removed]",
            "text/plain": [
              "<Figure size 432x288 with 2 Axes>"
            ]
          },
          "metadata": {
            "needs_background": "light"
          },
          "output_type": "display_data"
        }
      ],
      "source": [
        "concat = pd.concat([x_df, y_df], axis = 1)\n",
        "\n",
        "# plotting correlation heatmap\n",
        "sns.heatmap(concat.corr(), cmap=\"YlGnBu\", annot=True)\n"
      ]
    },
    {
      "cell_type": "code",
      "execution_count": 194,
      "metadata": {},
      "outputs": [
        {
          "data": {
            "text/html": [
              "<div>\n",
              "<style scoped>\n",
              "    .dataframe tbody tr th:only-of-type {\n",
              "        vertical-align: middle;\n",
              "    }\n",
              "\n",
              "    .dataframe tbody tr th {\n",
              "        vertical-align: top;\n",
              "    }\n",
              "\n",
              "    .dataframe thead th {\n",
              "        text-align: right;\n",
              "    }\n",
              "</style>\n",
              "<table border=\"1\" class=\"dataframe\">\n",
              "  <thead>\n",
              "    <tr style=\"text-align: right;\">\n",
              "      <th></th>\n",
              "      <th>Airline</th>\n",
              "      <th>Flight</th>\n",
              "      <th>AirportFrom</th>\n",
              "      <th>AirportTo</th>\n",
              "      <th>DayOfWeek</th>\n",
              "      <th>Time</th>\n",
              "      <th>Length</th>\n",
              "    </tr>\n",
              "  </thead>\n",
              "  <tbody>\n",
              "    <tr>\n",
              "      <th>0</th>\n",
              "      <td>CO</td>\n",
              "      <td>269</td>\n",
              "      <td>SFO</td>\n",
              "      <td>IAH</td>\n",
              "      <td>3</td>\n",
              "      <td>15</td>\n",
              "      <td>5.323010</td>\n",
              "    </tr>\n",
              "    <tr>\n",
              "      <th>1</th>\n",
              "      <td>US</td>\n",
              "      <td>1558</td>\n",
              "      <td>PHX</td>\n",
              "      <td>CLT</td>\n",
              "      <td>3</td>\n",
              "      <td>15</td>\n",
              "      <td>5.402677</td>\n",
              "    </tr>\n",
              "    <tr>\n",
              "      <th>2</th>\n",
              "      <td>AA</td>\n",
              "      <td>2400</td>\n",
              "      <td>LAX</td>\n",
              "      <td>DFW</td>\n",
              "      <td>3</td>\n",
              "      <td>20</td>\n",
              "      <td>5.105945</td>\n",
              "    </tr>\n",
              "    <tr>\n",
              "      <th>3</th>\n",
              "      <td>AA</td>\n",
              "      <td>2466</td>\n",
              "      <td>SFO</td>\n",
              "      <td>DFW</td>\n",
              "      <td>3</td>\n",
              "      <td>20</td>\n",
              "      <td>5.273000</td>\n",
              "    </tr>\n",
              "    <tr>\n",
              "      <th>4</th>\n",
              "      <td>AS</td>\n",
              "      <td>108</td>\n",
              "      <td>ANC</td>\n",
              "      <td>SEA</td>\n",
              "      <td>3</td>\n",
              "      <td>30</td>\n",
              "      <td>5.308268</td>\n",
              "    </tr>\n",
              "    <tr>\n",
              "      <th>...</th>\n",
              "      <td>...</td>\n",
              "      <td>...</td>\n",
              "      <td>...</td>\n",
              "      <td>...</td>\n",
              "      <td>...</td>\n",
              "      <td>...</td>\n",
              "      <td>...</td>\n",
              "    </tr>\n",
              "    <tr>\n",
              "      <th>539378</th>\n",
              "      <td>CO</td>\n",
              "      <td>178</td>\n",
              "      <td>OGG</td>\n",
              "      <td>SNA</td>\n",
              "      <td>5</td>\n",
              "      <td>1439</td>\n",
              "      <td>5.786897</td>\n",
              "    </tr>\n",
              "    <tr>\n",
              "      <th>539379</th>\n",
              "      <td>FL</td>\n",
              "      <td>398</td>\n",
              "      <td>SEA</td>\n",
              "      <td>ATL</td>\n",
              "      <td>5</td>\n",
              "      <td>1439</td>\n",
              "      <td>5.720312</td>\n",
              "    </tr>\n",
              "    <tr>\n",
              "      <th>539380</th>\n",
              "      <td>FL</td>\n",
              "      <td>609</td>\n",
              "      <td>SFO</td>\n",
              "      <td>MKE</td>\n",
              "      <td>5</td>\n",
              "      <td>1439</td>\n",
              "      <td>5.541264</td>\n",
              "    </tr>\n",
              "    <tr>\n",
              "      <th>539381</th>\n",
              "      <td>UA</td>\n",
              "      <td>78</td>\n",
              "      <td>HNL</td>\n",
              "      <td>SFO</td>\n",
              "      <td>5</td>\n",
              "      <td>1439</td>\n",
              "      <td>5.746203</td>\n",
              "    </tr>\n",
              "    <tr>\n",
              "      <th>539382</th>\n",
              "      <td>US</td>\n",
              "      <td>1442</td>\n",
              "      <td>LAX</td>\n",
              "      <td>PHL</td>\n",
              "      <td>5</td>\n",
              "      <td>1439</td>\n",
              "      <td>5.707110</td>\n",
              "    </tr>\n",
              "  </tbody>\n",
              "</table>\n",
              "<p>539379 rows × 7 columns</p>\n",
              "</div>"
            ],
            "text/plain": [
              "       Airline  Flight AirportFrom AirportTo  DayOfWeek  Time    Length\n",
              "0           CO     269         SFO       IAH          3    15  5.323010\n",
              "1           US    1558         PHX       CLT          3    15  5.402677\n",
              "2           AA    2400         LAX       DFW          3    20  5.105945\n",
              "3           AA    2466         SFO       DFW          3    20  5.273000\n",
              "4           AS     108         ANC       SEA          3    30  5.308268\n",
              "...        ...     ...         ...       ...        ...   ...       ...\n",
              "539378      CO     178         OGG       SNA          5  1439  5.786897\n",
              "539379      FL     398         SEA       ATL          5  1439  5.720312\n",
              "539380      FL     609         SFO       MKE          5  1439  5.541264\n",
              "539381      UA      78         HNL       SFO          5  1439  5.746203\n",
              "539382      US    1442         LAX       PHL          5  1439  5.707110\n",
              "\n",
              "[539379 rows x 7 columns]"
            ]
          },
          "execution_count": 194,
          "metadata": {},
          "output_type": "execute_result"
        }
      ],
      "source": [
        "x_df"
      ]
    },
    {
      "cell_type": "markdown",
      "metadata": {
        "id": "uyDZmOfrZQxW"
      },
      "source": [
        "# Label encoding"
      ]
    },
    {
      "cell_type": "code",
      "execution_count": 195,
      "metadata": {
        "id": "wrsaacZlZQEv"
      },
      "outputs": [],
      "source": [
        "# Import label encoder\n",
        "from sklearn import preprocessing\n",
        "  \n",
        "# label_encoder object knows how to understand word labels.\n",
        "le1 = preprocessing.LabelEncoder()\n",
        "le2 = preprocessing.LabelEncoder()\n",
        "le3 = preprocessing.LabelEncoder()\n",
        "\n",
        "x_df['Airline']= le1.fit_transform(x_df['Airline'])\n",
        "x_df['AirportFrom']= le2.fit_transform(x_df['AirportFrom'])\n",
        "x_df['AirportTo']= le3.fit_transform(x_df['AirportTo'])\n",
        "\n"
      ]
    },
    {
      "cell_type": "code",
      "execution_count": 196,
      "metadata": {},
      "outputs": [
        {
          "name": "stdout",
          "output_type": "stream",
          "text": [
            "['9E' 'AA' 'AS' 'B6' 'CO' 'DL' 'EV' 'F9' 'FL' 'HA' 'MQ' 'OH' 'OO' 'UA'\n",
            " 'US' 'WN' 'XE' 'YV']\n",
            "\n"
          ]
        }
      ],
      "source": [
        "print(le1.classes_, end = \"\\n\\n\")"
      ]
    },
    {
      "cell_type": "code",
      "execution_count": 197,
      "metadata": {},
      "outputs": [
        {
          "name": "stdout",
          "output_type": "stream",
          "text": [
            "['ABE' 'ABI' 'ABQ' 'ABR' 'ABY' 'ACT' 'ACV' 'ACY' 'ADK' 'ADQ' 'AEX' 'AGS'\n",
            " 'ALB' 'AMA' 'ANC' 'ASE' 'ATL' 'ATW' 'AUS' 'AVL' 'AVP' 'AZO' 'BDL' 'BET'\n",
            " 'BFL' 'BGM' 'BGR' 'BHM' 'BIL' 'BIS' 'BKG' 'BLI' 'BMI' 'BNA' 'BOI' 'BOS'\n",
            " 'BQK' 'BQN' 'BRO' 'BRW' 'BTM' 'BTR' 'BTV' 'BUF' 'BUR' 'BWI' 'BZN' 'CAE'\n",
            " 'CAK' 'CDC' 'CDV' 'CEC' 'CHA' 'CHO' 'CHS' 'CIC' 'CID' 'CLD' 'CLE' 'CLL'\n",
            " 'CLT' 'CMH' 'CMI' 'CMX' 'COD' 'COS' 'COU' 'CPR' 'CRP' 'CRW' 'CSG' 'CVG'\n",
            " 'CWA' 'CYS' 'DAB' 'DAL' 'DAY' 'DBQ' 'DCA' 'DEN' 'DFW' 'DHN' 'DLH' 'DRO'\n",
            " 'DSM' 'DTW' 'EAU' 'ECP' 'EGE' 'EKO' 'ELM' 'ELP' 'ERI' 'EUG' 'EVV' 'EWN'\n",
            " 'EWR' 'EYW' 'FAI' 'FAR' 'FAT' 'FAY' 'FCA' 'FLG' 'FLL' 'FLO' 'FNT' 'FSD'\n",
            " 'FSM' 'FWA' 'GCC' 'GEG' 'GFK' 'GGG' 'GJT' 'GNV' 'GPT' 'GRB' 'GRK' 'GRR'\n",
            " 'GSO' 'GSP' 'GTF' 'GTR' 'GUC' 'GUM' 'HDN' 'HLN' 'HNL' 'HOU' 'HPN' 'HRL'\n",
            " 'HSV' 'HTS' 'IAD' 'IAH' 'ICT' 'IDA' 'ILM' 'IND' 'IPL' 'ISP' 'ITH' 'ITO'\n",
            " 'IYK' 'JAC' 'JAN' 'JAX' 'JFK' 'JNU' 'KOA' 'KTN' 'LAN' 'LAS' 'LAX' 'LBB'\n",
            " 'LCH' 'LEX' 'LFT' 'LGA' 'LGB' 'LIH' 'LIT' 'LMT' 'LNK' 'LRD' 'LSE' 'LWB'\n",
            " 'LWS' 'LYH' 'MAF' 'MBS' 'MCI' 'MCO' 'MDT' 'MDW' 'MEI' 'MEM' 'MFE' 'MFR'\n",
            " 'MGM' 'MHK' 'MHT' 'MIA' 'MKE' 'MKG' 'MLB' 'MLI' 'MLU' 'MMH' 'MOB' 'MOD'\n",
            " 'MOT' 'MQT' 'MRY' 'MSN' 'MSO' 'MSP' 'MSY' 'MTJ' 'MYR' 'OAJ' 'OAK' 'OGG'\n",
            " 'OKC' 'OMA' 'OME' 'ONT' 'ORD' 'ORF' 'OTH' 'OTZ' 'PAH' 'PBI' 'PDX' 'PHF'\n",
            " 'PHL' 'PHX' 'PIA' 'PIE' 'PIH' 'PIT' 'PLN' 'PNS' 'PSC' 'PSE' 'PSG' 'PSP'\n",
            " 'PVD' 'PWM' 'RAP' 'RDD' 'RDM' 'RDU' 'RIC' 'RKS' 'RNO' 'ROA' 'ROC' 'ROW'\n",
            " 'RST' 'RSW' 'SAF' 'SAN' 'SAT' 'SAV' 'SBA' 'SBN' 'SBP' 'SCC' 'SCE' 'SDF'\n",
            " 'SEA' 'SFO' 'SGF' 'SGU' 'SHV' 'SIT' 'SJC' 'SJT' 'SJU' 'SLC' 'SMF' 'SMX'\n",
            " 'SNA' 'SPI' 'SPS' 'SRQ' 'STL' 'STT' 'STX' 'SUN' 'SWF' 'SYR' 'TEX' 'TLH'\n",
            " 'TOL' 'TPA' 'TRI' 'TUL' 'TUS' 'TVC' 'TWF' 'TXK' 'TYR' 'TYS' 'UTM' 'VLD'\n",
            " 'VPS' 'WRG' 'XNA' 'YAK' 'YUM']\n",
            "\n"
          ]
        }
      ],
      "source": [
        "print(le2.classes_, end = \"\\n\\n\")"
      ]
    },
    {
      "cell_type": "code",
      "execution_count": 198,
      "metadata": {},
      "outputs": [
        {
          "name": "stdout",
          "output_type": "stream",
          "text": [
            "['ABE' 'ABI' 'ABQ' 'ABR' 'ABY' 'ACT' 'ACV' 'ACY' 'ADK' 'ADQ' 'AEX' 'AGS'\n",
            " 'ALB' 'AMA' 'ANC' 'ASE' 'ATL' 'ATW' 'AUS' 'AVL' 'AVP' 'AZO' 'BDL' 'BET'\n",
            " 'BFL' 'BGM' 'BGR' 'BHM' 'BIL' 'BIS' 'BKG' 'BLI' 'BMI' 'BNA' 'BOI' 'BOS'\n",
            " 'BQK' 'BQN' 'BRO' 'BRW' 'BTM' 'BTR' 'BTV' 'BUF' 'BUR' 'BWI' 'BZN' 'CAE'\n",
            " 'CAK' 'CDC' 'CDV' 'CEC' 'CHA' 'CHO' 'CHS' 'CIC' 'CID' 'CLD' 'CLE' 'CLL'\n",
            " 'CLT' 'CMH' 'CMI' 'CMX' 'COD' 'COS' 'COU' 'CPR' 'CRP' 'CRW' 'CSG' 'CVG'\n",
            " 'CWA' 'CYS' 'DAB' 'DAL' 'DAY' 'DBQ' 'DCA' 'DEN' 'DFW' 'DHN' 'DLH' 'DRO'\n",
            " 'DSM' 'DTW' 'EAU' 'ECP' 'EGE' 'EKO' 'ELM' 'ELP' 'ERI' 'EUG' 'EVV' 'EWN'\n",
            " 'EWR' 'EYW' 'FAI' 'FAR' 'FAT' 'FAY' 'FCA' 'FLG' 'FLL' 'FLO' 'FNT' 'FSD'\n",
            " 'FSM' 'FWA' 'GCC' 'GEG' 'GFK' 'GGG' 'GJT' 'GNV' 'GPT' 'GRB' 'GRK' 'GRR'\n",
            " 'GSO' 'GSP' 'GTF' 'GTR' 'GUC' 'GUM' 'HDN' 'HLN' 'HNL' 'HOU' 'HPN' 'HRL'\n",
            " 'HSV' 'HTS' 'IAD' 'IAH' 'ICT' 'IDA' 'ILM' 'IND' 'IPL' 'ISP' 'ITH' 'ITO'\n",
            " 'IYK' 'JAC' 'JAN' 'JAX' 'JFK' 'JNU' 'KOA' 'KTN' 'LAN' 'LAS' 'LAX' 'LBB'\n",
            " 'LCH' 'LEX' 'LFT' 'LGA' 'LGB' 'LIH' 'LIT' 'LMT' 'LNK' 'LRD' 'LSE' 'LWB'\n",
            " 'LWS' 'LYH' 'MAF' 'MBS' 'MCI' 'MCO' 'MDT' 'MDW' 'MEI' 'MEM' 'MFE' 'MFR'\n",
            " 'MGM' 'MHK' 'MHT' 'MIA' 'MKE' 'MKG' 'MLB' 'MLI' 'MLU' 'MMH' 'MOB' 'MOD'\n",
            " 'MOT' 'MQT' 'MRY' 'MSN' 'MSO' 'MSP' 'MSY' 'MTJ' 'MYR' 'OAJ' 'OAK' 'OGG'\n",
            " 'OKC' 'OMA' 'OME' 'ONT' 'ORD' 'ORF' 'OTH' 'OTZ' 'PAH' 'PBI' 'PDX' 'PHF'\n",
            " 'PHL' 'PHX' 'PIA' 'PIE' 'PIH' 'PIT' 'PLN' 'PNS' 'PSC' 'PSE' 'PSG' 'PSP'\n",
            " 'PVD' 'PWM' 'RAP' 'RDD' 'RDM' 'RDU' 'RIC' 'RKS' 'RNO' 'ROA' 'ROC' 'ROW'\n",
            " 'RST' 'RSW' 'SAF' 'SAN' 'SAT' 'SAV' 'SBA' 'SBN' 'SBP' 'SCC' 'SCE' 'SDF'\n",
            " 'SEA' 'SFO' 'SGF' 'SGU' 'SHV' 'SIT' 'SJC' 'SJT' 'SJU' 'SLC' 'SMF' 'SMX'\n",
            " 'SNA' 'SPI' 'SPS' 'SRQ' 'STL' 'STT' 'STX' 'SUN' 'SWF' 'SYR' 'TEX' 'TLH'\n",
            " 'TOL' 'TPA' 'TRI' 'TUL' 'TUS' 'TVC' 'TWF' 'TXK' 'TYR' 'TYS' 'UTM' 'VLD'\n",
            " 'VPS' 'WRG' 'XNA' 'YAK' 'YUM']\n",
            "\n"
          ]
        }
      ],
      "source": [
        "print(le3.classes_, end = \"\\n\\n\")"
      ]
    },
    {
      "cell_type": "code",
      "execution_count": 199,
      "metadata": {},
      "outputs": [
        {
          "data": {
            "text/html": [
              "<div>\n",
              "<style scoped>\n",
              "    .dataframe tbody tr th:only-of-type {\n",
              "        vertical-align: middle;\n",
              "    }\n",
              "\n",
              "    .dataframe tbody tr th {\n",
              "        vertical-align: top;\n",
              "    }\n",
              "\n",
              "    .dataframe thead th {\n",
              "        text-align: right;\n",
              "    }\n",
              "</style>\n",
              "<table border=\"1\" class=\"dataframe\">\n",
              "  <thead>\n",
              "    <tr style=\"text-align: right;\">\n",
              "      <th></th>\n",
              "      <th>Airline</th>\n",
              "      <th>Flight</th>\n",
              "      <th>AirportFrom</th>\n",
              "      <th>AirportTo</th>\n",
              "      <th>DayOfWeek</th>\n",
              "      <th>Time</th>\n",
              "      <th>Length</th>\n",
              "    </tr>\n",
              "  </thead>\n",
              "  <tbody>\n",
              "    <tr>\n",
              "      <th>0</th>\n",
              "      <td>4</td>\n",
              "      <td>269</td>\n",
              "      <td>253</td>\n",
              "      <td>135</td>\n",
              "      <td>3</td>\n",
              "      <td>15</td>\n",
              "      <td>5.323010</td>\n",
              "    </tr>\n",
              "    <tr>\n",
              "      <th>1</th>\n",
              "      <td>14</td>\n",
              "      <td>1558</td>\n",
              "      <td>217</td>\n",
              "      <td>60</td>\n",
              "      <td>3</td>\n",
              "      <td>15</td>\n",
              "      <td>5.402677</td>\n",
              "    </tr>\n",
              "    <tr>\n",
              "      <th>2</th>\n",
              "      <td>1</td>\n",
              "      <td>2400</td>\n",
              "      <td>154</td>\n",
              "      <td>80</td>\n",
              "      <td>3</td>\n",
              "      <td>20</td>\n",
              "      <td>5.105945</td>\n",
              "    </tr>\n",
              "    <tr>\n",
              "      <th>3</th>\n",
              "      <td>1</td>\n",
              "      <td>2466</td>\n",
              "      <td>253</td>\n",
              "      <td>80</td>\n",
              "      <td>3</td>\n",
              "      <td>20</td>\n",
              "      <td>5.273000</td>\n",
              "    </tr>\n",
              "    <tr>\n",
              "      <th>4</th>\n",
              "      <td>2</td>\n",
              "      <td>108</td>\n",
              "      <td>14</td>\n",
              "      <td>252</td>\n",
              "      <td>3</td>\n",
              "      <td>30</td>\n",
              "      <td>5.308268</td>\n",
              "    </tr>\n",
              "    <tr>\n",
              "      <th>...</th>\n",
              "      <td>...</td>\n",
              "      <td>...</td>\n",
              "      <td>...</td>\n",
              "      <td>...</td>\n",
              "      <td>...</td>\n",
              "      <td>...</td>\n",
              "      <td>...</td>\n",
              "    </tr>\n",
              "    <tr>\n",
              "      <th>539378</th>\n",
              "      <td>4</td>\n",
              "      <td>178</td>\n",
              "      <td>203</td>\n",
              "      <td>264</td>\n",
              "      <td>5</td>\n",
              "      <td>1439</td>\n",
              "      <td>5.786897</td>\n",
              "    </tr>\n",
              "    <tr>\n",
              "      <th>539379</th>\n",
              "      <td>8</td>\n",
              "      <td>398</td>\n",
              "      <td>252</td>\n",
              "      <td>16</td>\n",
              "      <td>5</td>\n",
              "      <td>1439</td>\n",
              "      <td>5.720312</td>\n",
              "    </tr>\n",
              "    <tr>\n",
              "      <th>539380</th>\n",
              "      <td>8</td>\n",
              "      <td>609</td>\n",
              "      <td>253</td>\n",
              "      <td>184</td>\n",
              "      <td>5</td>\n",
              "      <td>1439</td>\n",
              "      <td>5.541264</td>\n",
              "    </tr>\n",
              "    <tr>\n",
              "      <th>539381</th>\n",
              "      <td>13</td>\n",
              "      <td>78</td>\n",
              "      <td>128</td>\n",
              "      <td>253</td>\n",
              "      <td>5</td>\n",
              "      <td>1439</td>\n",
              "      <td>5.746203</td>\n",
              "    </tr>\n",
              "    <tr>\n",
              "      <th>539382</th>\n",
              "      <td>14</td>\n",
              "      <td>1442</td>\n",
              "      <td>154</td>\n",
              "      <td>216</td>\n",
              "      <td>5</td>\n",
              "      <td>1439</td>\n",
              "      <td>5.707110</td>\n",
              "    </tr>\n",
              "  </tbody>\n",
              "</table>\n",
              "<p>539379 rows × 7 columns</p>\n",
              "</div>"
            ],
            "text/plain": [
              "        Airline  Flight  AirportFrom  AirportTo  DayOfWeek  Time    Length\n",
              "0             4     269          253        135          3    15  5.323010\n",
              "1            14    1558          217         60          3    15  5.402677\n",
              "2             1    2400          154         80          3    20  5.105945\n",
              "3             1    2466          253         80          3    20  5.273000\n",
              "4             2     108           14        252          3    30  5.308268\n",
              "...         ...     ...          ...        ...        ...   ...       ...\n",
              "539378        4     178          203        264          5  1439  5.786897\n",
              "539379        8     398          252         16          5  1439  5.720312\n",
              "539380        8     609          253        184          5  1439  5.541264\n",
              "539381       13      78          128        253          5  1439  5.746203\n",
              "539382       14    1442          154        216          5  1439  5.707110\n",
              "\n",
              "[539379 rows x 7 columns]"
            ]
          },
          "execution_count": 199,
          "metadata": {},
          "output_type": "execute_result"
        }
      ],
      "source": [
        "x_df"
      ]
    },
    {
      "cell_type": "code",
      "execution_count": 200,
      "metadata": {},
      "outputs": [
        {
          "data": {
            "text/plain": [
              "1439"
            ]
          },
          "execution_count": 200,
          "metadata": {},
          "output_type": "execute_result"
        }
      ],
      "source": [
        "max(x_df[\"Time\"])"
      ]
    },
    {
      "cell_type": "markdown",
      "metadata": {
        "id": "4a2MJogAVTAI"
      },
      "source": [
        "# Training"
      ]
    },
    {
      "cell_type": "markdown",
      "metadata": {
        "id": "dL242N8nV4HF"
      },
      "source": [
        "Let's just keep a bit of the data aside for testing purposes, shall we? Always nice to have a final check on a model, lest we unabashedly make a fool of ourselves."
      ]
    },
    {
      "cell_type": "code",
      "execution_count": 201,
      "metadata": {
        "id": "z7qFaaH_WUtP"
      },
      "outputs": [],
      "source": [
        "from sklearn.model_selection import train_test_split\n",
        "x_train, x_check, y_train, y_check = train_test_split(x_df, y_df, test_size = 0.10, random_state = 42)"
      ]
    },
    {
      "cell_type": "code",
      "execution_count": 202,
      "metadata": {
        "id": "mwk5sMdFW0uc"
      },
      "outputs": [],
      "source": [
        "x_val, x_test, y_val, y_test = train_test_split(x_check, y_check, test_size = 0.5, random_state = 42)"
      ]
    },
    {
      "cell_type": "markdown",
      "metadata": {
        "id": "devX3GSEV5IC"
      },
      "source": [
        "We will try multiple algorithms to find out the best fit"
      ]
    },
    {
      "cell_type": "markdown",
      "metadata": {
        "id": "Z5b_n9vhWHgy"
      },
      "source": [
        "1. Logistic Regression"
      ]
    },
    {
      "cell_type": "code",
      "execution_count": 203,
      "metadata": {
        "id": "kh4NUrKEPxj2"
      },
      "outputs": [],
      "source": [
        "from sklearn.linear_model import LogisticRegression"
      ]
    },
    {
      "cell_type": "code",
      "execution_count": 204,
      "metadata": {
        "id": "jL0n98f_WboL"
      },
      "outputs": [],
      "source": [
        "lr_base = LogisticRegression(random_state = 0).fit(x_train, y_train)\n",
        "el_score = []\n",
        "el_mods = []\n",
        "for i in range(0, 11):\n",
        "  lr_elastic = LogisticRegression(random_state = 42).fit(x_train, y_train)\n",
        "  el_mods.append(lr_elastic)\n",
        "  el_score.append(lr_elastic.score(x_train, y_train))"
      ]
    },
    {
      "cell_type": "code",
      "execution_count": 205,
      "metadata": {
        "colab": {
          "base_uri": "https://localhost:8080/"
        },
        "id": "yxfCPz88ZHKt",
        "outputId": "bd074609-326c-437b-e941-757804e4560a"
      },
      "outputs": [
        {
          "name": "stdout",
          "output_type": "stream",
          "text": [
            "0.5771844570194936\n",
            "[LogisticRegression(random_state=42), LogisticRegression(random_state=42), LogisticRegression(random_state=42), LogisticRegression(random_state=42), LogisticRegression(random_state=42), LogisticRegression(random_state=42), LogisticRegression(random_state=42), LogisticRegression(random_state=42), LogisticRegression(random_state=42), LogisticRegression(random_state=42), LogisticRegression(random_state=42)]\n",
            "[0.5771844570194936, 0.5771844570194936, 0.5771844570194936, 0.5771844570194936, 0.5771844570194936, 0.5771844570194936, 0.5771844570194936, 0.5771844570194936, 0.5771844570194936, 0.5771844570194936, 0.5771844570194936]\n"
          ]
        }
      ],
      "source": [
        "print(lr_base.score(x_train, y_train))\n",
        "print(el_mods)\n",
        "print(el_score)"
      ]
    },
    {
      "cell_type": "markdown",
      "metadata": {
        "id": "vDXaDHBmd1rI"
      },
      "source": [
        "2. Random Forest"
      ]
    },
    {
      "cell_type": "code",
      "execution_count": 206,
      "metadata": {
        "id": "hbvwW39Sa19s"
      },
      "outputs": [],
      "source": [
        "from sklearn.ensemble import RandomForestClassifier"
      ]
    },
    {
      "cell_type": "code",
      "execution_count": 207,
      "metadata": {
        "colab": {
          "base_uri": "https://localhost:8080/"
        },
        "id": "x2Q5p4akd4Tc",
        "outputId": "e0e66593-5089-4e62-c62a-58ba10f39b27"
      },
      "outputs": [
        {
          "data": {
            "text/plain": [
              "0.6356673622541154"
            ]
          },
          "execution_count": 207,
          "metadata": {},
          "output_type": "execute_result"
        }
      ],
      "source": [
        "clf_1 = RandomForestClassifier(max_depth=6, random_state=0)\n",
        "clf_1.fit(x_train, y_train)\n",
        "clf_1.score(x_train, y_train)"
      ]
    },
    {
      "cell_type": "code",
      "execution_count": 208,
      "metadata": {
        "colab": {
          "base_uri": "https://localhost:8080/"
        },
        "id": "In5asHSxelT_",
        "outputId": "f6d37cf9-e67f-45a9-90f8-f298d544412f"
      },
      "outputs": [
        {
          "name": "stdout",
          "output_type": "stream",
          "text": [
            "0.6359523897808596\n"
          ]
        }
      ],
      "source": [
        "from sklearn.metrics import accuracy_score\n",
        "y_hat_val = clf_1.predict(x_val)\n",
        "print(accuracy_score(y_hat_val, y_val))"
      ]
    },
    {
      "cell_type": "markdown",
      "metadata": {
        "id": "fh2oOmmUhthU"
      },
      "source": [
        "3. XGBoost"
      ]
    },
    {
      "cell_type": "code",
      "execution_count": 209,
      "metadata": {
        "id": "J0jkOKW_fy7V"
      },
      "outputs": [],
      "source": [
        "import xgboost as xgb"
      ]
    },
    {
      "cell_type": "code",
      "execution_count": 210,
      "metadata": {
        "colab": {
          "base_uri": "https://localhost:8080/"
        },
        "id": "egNVEeJOiCNw",
        "outputId": "dec8fde8-a61a-4e90-ed25-efb150ad8bf2"
      },
      "outputs": [
        {
          "name": "stdout",
          "output_type": "stream",
          "text": [
            "0.6693542572629836\n",
            "0.6630205050242871\n"
          ]
        }
      ],
      "source": [
        "xgb_model = xgb.XGBClassifier(objective=\"binary:logistic\", max_depth = 5, random_state=42)\n",
        "xgb_model.fit(x_train, y_train)\n",
        "print(xgb_model.score(x_train, y_train))\n",
        "\n",
        "y_hat_val_xgb = xgb_model.predict(x_val)\n",
        "print(accuracy_score(y_hat_val_xgb, y_val))"
      ]
    },
    {
      "cell_type": "markdown",
      "metadata": {
        "id": "g06hc6zsjmiV"
      },
      "source": [
        "4. AdaBoost"
      ]
    },
    {
      "cell_type": "code",
      "execution_count": 211,
      "metadata": {
        "id": "5U1H22RtiYAQ"
      },
      "outputs": [],
      "source": [
        "from sklearn.ensemble import AdaBoostClassifier"
      ]
    },
    {
      "cell_type": "code",
      "execution_count": 212,
      "metadata": {
        "colab": {
          "base_uri": "https://localhost:8080/"
        },
        "id": "fBOUzzu0jxWc",
        "outputId": "b71ce75e-2517-4a89-bcd2-2cc5905cd4b0"
      },
      "outputs": [
        {
          "name": "stdout",
          "output_type": "stream",
          "text": [
            "0.6430112001252469\n",
            "0.6429975156661352\n"
          ]
        }
      ],
      "source": [
        "clf_ada_1 = AdaBoostClassifier(n_estimators=200, learning_rate = 0.5, random_state=0)\n",
        "clf_ada_1.fit(x_train, y_train)\n",
        "print(clf_ada_1.score(x_train, y_train))\n",
        "\n",
        "y_hat_val_ada = clf_ada_1.predict(x_val)\n",
        "print(accuracy_score(y_hat_val_ada, y_val))"
      ]
    },
    {
      "cell_type": "markdown",
      "metadata": {
        "id": "UZaqwSm-c6va"
      },
      "source": [
        "**The best model looks to be the Xgboost one, so we will predict the final test data output using this model.**"
      ]
    },
    {
      "cell_type": "code",
      "execution_count": 213,
      "metadata": {
        "colab": {
          "base_uri": "https://localhost:8080/"
        },
        "id": "kVkB0cBGqCkE",
        "outputId": "a0bd0e4e-9d87-4932-908d-21d2a4c472ca"
      },
      "outputs": [
        {
          "name": "stdout",
          "output_type": "stream",
          "text": [
            "0.6646890874707998\n"
          ]
        }
      ],
      "source": [
        "y_hat_test_xgb = xgb_model.predict(x_test)\n",
        "print(accuracy_score(y_hat_test_xgb, y_test))"
      ]
    },
    {
      "cell_type": "code",
      "execution_count": 214,
      "metadata": {},
      "outputs": [],
      "source": [
        "xgb_model.save_model(\"airline_delay_xgb.json\")\n",
        "xgb_model.save_model(\"airline_delay_xgb.txt\")"
      ]
    },
    {
      "cell_type": "code",
      "execution_count": 215,
      "metadata": {},
      "outputs": [
        {
          "data": {
            "text/plain": [
              "['rand_for.joblib']"
            ]
          },
          "execution_count": 215,
          "metadata": {},
          "output_type": "execute_result"
        }
      ],
      "source": [
        "dump(xgb_model, 'model.joblib')\n",
        "dump(clf_1, \"rand_for.joblib\")"
      ]
    }
  ],
  "metadata": {
    "colab": {
      "collapsed_sections": [],
      "name": "Flight Delay.ipynb",
      "provenance": []
    },
    "kernelspec": {
      "display_name": "Python 3.10.4 64-bit",
      "language": "python",
      "name": "python3"
    },
    "language_info": {
      "codemirror_mode": {
        "name": "ipython",
        "version": 3
      },
      "file_extension": ".py",
      "mimetype": "text/x-python",
      "name": "python",
      "nbconvert_exporter": "python",
      "pygments_lexer": "ipython3",
      "version": "3.10.4"
    },
    "vscode": {
      "interpreter": {
        "hash": "26de051ba29f2982a8de78e945f0abaf191376122a1563185a90213a26c5da77"
      }
    }
  },
  "nbformat": 4,
  "nbformat_minor": 0
}
